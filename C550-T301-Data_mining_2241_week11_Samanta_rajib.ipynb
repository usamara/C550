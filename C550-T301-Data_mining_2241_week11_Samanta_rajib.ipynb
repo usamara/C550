{
 "cells": [
  {
   "cell_type": "markdown",
   "id": "1950cc2c",
   "metadata": {},
   "source": [
    "## Class : C550-T301 Data Mining (2241-1)\n",
    "## Name : Rajib Samanta\n",
    "### Assignment : Week 11\n",
    "#####  In this exercise, you will build a convolutional neural network (CNN) to classify handwritten digits from the MNIST dataset. The steps to build a CNN classifier are outlined in section 20.15 of the Machine Learning with Python Cookbook, but keep in mind that your code may need to be modified depending on your version of Keras.\n",
    "1. Load the MNIST data set.\n",
    "2. Display the first five images in the training data set (see section 8.1 in the Machine Learning with Python Cookbook). Compare these to the first five training labels.\n",
    "3. Build and train a Keras CNN classifier on the MNIST training set.\n",
    "4. Report the test accuracy of your model.\n",
    "5. Display a confusion matrix on the test set classifications.\n",
    "6. Summarize your results."
   ]
  },
  {
   "cell_type": "code",
   "execution_count": 14,
   "id": "c61d9e43",
   "metadata": {},
   "outputs": [],
   "source": [
    "# Load libraries\n",
    "from keras.datasets import mnist\n",
    "import numpy as np\n",
    "import pandas as pd\n",
    "from tensorflow.keras.utils import to_categorical\n",
    "from tensorflow.python.keras.models import Sequential,Input\n",
    "from keras.layers import InputLayer\n",
    "from keras.layers import Dense, Dropout, Flatten\n",
    "from tensorflow.keras.models import Sequential\n",
    "from tensorflow.keras.layers import InputLayer, Dense, Dropout, Flatten,Conv2D,MaxPooling2D\n",
    "import matplotlib.pyplot as plt\n",
    "from keras import backend as K\n",
    "from sklearn.metrics import multilabel_confusion_matrix,confusion_matrix,classification_report"
   ]
  },
  {
   "cell_type": "code",
   "execution_count": 15,
   "id": "eeebb91f",
   "metadata": {},
   "outputs": [],
   "source": [
    "# 01- Import the MNIST Data set\n",
    "(train_x, train_y), (test_x, test_y) = mnist.load_data()"
   ]
  },
  {
   "cell_type": "code",
   "execution_count": 16,
   "id": "2f57aaf8",
   "metadata": {},
   "outputs": [
    {
     "data": {
      "text/plain": [
       "array([[[0, 0, 0, ..., 0, 0, 0],\n",
       "        [0, 0, 0, ..., 0, 0, 0],\n",
       "        [0, 0, 0, ..., 0, 0, 0],\n",
       "        ...,\n",
       "        [0, 0, 0, ..., 0, 0, 0],\n",
       "        [0, 0, 0, ..., 0, 0, 0],\n",
       "        [0, 0, 0, ..., 0, 0, 0]],\n",
       "\n",
       "       [[0, 0, 0, ..., 0, 0, 0],\n",
       "        [0, 0, 0, ..., 0, 0, 0],\n",
       "        [0, 0, 0, ..., 0, 0, 0],\n",
       "        ...,\n",
       "        [0, 0, 0, ..., 0, 0, 0],\n",
       "        [0, 0, 0, ..., 0, 0, 0],\n",
       "        [0, 0, 0, ..., 0, 0, 0]],\n",
       "\n",
       "       [[0, 0, 0, ..., 0, 0, 0],\n",
       "        [0, 0, 0, ..., 0, 0, 0],\n",
       "        [0, 0, 0, ..., 0, 0, 0],\n",
       "        ...,\n",
       "        [0, 0, 0, ..., 0, 0, 0],\n",
       "        [0, 0, 0, ..., 0, 0, 0],\n",
       "        [0, 0, 0, ..., 0, 0, 0]],\n",
       "\n",
       "       ...,\n",
       "\n",
       "       [[0, 0, 0, ..., 0, 0, 0],\n",
       "        [0, 0, 0, ..., 0, 0, 0],\n",
       "        [0, 0, 0, ..., 0, 0, 0],\n",
       "        ...,\n",
       "        [0, 0, 0, ..., 0, 0, 0],\n",
       "        [0, 0, 0, ..., 0, 0, 0],\n",
       "        [0, 0, 0, ..., 0, 0, 0]],\n",
       "\n",
       "       [[0, 0, 0, ..., 0, 0, 0],\n",
       "        [0, 0, 0, ..., 0, 0, 0],\n",
       "        [0, 0, 0, ..., 0, 0, 0],\n",
       "        ...,\n",
       "        [0, 0, 0, ..., 0, 0, 0],\n",
       "        [0, 0, 0, ..., 0, 0, 0],\n",
       "        [0, 0, 0, ..., 0, 0, 0]],\n",
       "\n",
       "       [[0, 0, 0, ..., 0, 0, 0],\n",
       "        [0, 0, 0, ..., 0, 0, 0],\n",
       "        [0, 0, 0, ..., 0, 0, 0],\n",
       "        ...,\n",
       "        [0, 0, 0, ..., 0, 0, 0],\n",
       "        [0, 0, 0, ..., 0, 0, 0],\n",
       "        [0, 0, 0, ..., 0, 0, 0]]], dtype=uint8)"
      ]
     },
     "execution_count": 16,
     "metadata": {},
     "output_type": "execute_result"
    }
   ],
   "source": [
    "train_x"
   ]
  },
  {
   "cell_type": "code",
   "execution_count": 17,
   "id": "ca4755fa",
   "metadata": {},
   "outputs": [
    {
     "data": {
      "text/plain": [
       "array([5, 0, 4, ..., 5, 6, 8], dtype=uint8)"
      ]
     },
     "execution_count": 17,
     "metadata": {},
     "output_type": "execute_result"
    }
   ],
   "source": [
    "train_y"
   ]
  },
  {
   "cell_type": "code",
   "execution_count": 18,
   "id": "aca30a67",
   "metadata": {},
   "outputs": [
    {
     "data": {
      "text/plain": [
       "array([[[0, 0, 0, ..., 0, 0, 0],\n",
       "        [0, 0, 0, ..., 0, 0, 0],\n",
       "        [0, 0, 0, ..., 0, 0, 0],\n",
       "        ...,\n",
       "        [0, 0, 0, ..., 0, 0, 0],\n",
       "        [0, 0, 0, ..., 0, 0, 0],\n",
       "        [0, 0, 0, ..., 0, 0, 0]],\n",
       "\n",
       "       [[0, 0, 0, ..., 0, 0, 0],\n",
       "        [0, 0, 0, ..., 0, 0, 0],\n",
       "        [0, 0, 0, ..., 0, 0, 0],\n",
       "        ...,\n",
       "        [0, 0, 0, ..., 0, 0, 0],\n",
       "        [0, 0, 0, ..., 0, 0, 0],\n",
       "        [0, 0, 0, ..., 0, 0, 0]],\n",
       "\n",
       "       [[0, 0, 0, ..., 0, 0, 0],\n",
       "        [0, 0, 0, ..., 0, 0, 0],\n",
       "        [0, 0, 0, ..., 0, 0, 0],\n",
       "        ...,\n",
       "        [0, 0, 0, ..., 0, 0, 0],\n",
       "        [0, 0, 0, ..., 0, 0, 0],\n",
       "        [0, 0, 0, ..., 0, 0, 0]],\n",
       "\n",
       "       ...,\n",
       "\n",
       "       [[0, 0, 0, ..., 0, 0, 0],\n",
       "        [0, 0, 0, ..., 0, 0, 0],\n",
       "        [0, 0, 0, ..., 0, 0, 0],\n",
       "        ...,\n",
       "        [0, 0, 0, ..., 0, 0, 0],\n",
       "        [0, 0, 0, ..., 0, 0, 0],\n",
       "        [0, 0, 0, ..., 0, 0, 0]],\n",
       "\n",
       "       [[0, 0, 0, ..., 0, 0, 0],\n",
       "        [0, 0, 0, ..., 0, 0, 0],\n",
       "        [0, 0, 0, ..., 0, 0, 0],\n",
       "        ...,\n",
       "        [0, 0, 0, ..., 0, 0, 0],\n",
       "        [0, 0, 0, ..., 0, 0, 0],\n",
       "        [0, 0, 0, ..., 0, 0, 0]],\n",
       "\n",
       "       [[0, 0, 0, ..., 0, 0, 0],\n",
       "        [0, 0, 0, ..., 0, 0, 0],\n",
       "        [0, 0, 0, ..., 0, 0, 0],\n",
       "        ...,\n",
       "        [0, 0, 0, ..., 0, 0, 0],\n",
       "        [0, 0, 0, ..., 0, 0, 0],\n",
       "        [0, 0, 0, ..., 0, 0, 0]]], dtype=uint8)"
      ]
     },
     "execution_count": 18,
     "metadata": {},
     "output_type": "execute_result"
    }
   ],
   "source": [
    "test_x"
   ]
  },
  {
   "cell_type": "code",
   "execution_count": 19,
   "id": "d8b0540e",
   "metadata": {},
   "outputs": [
    {
     "data": {
      "text/plain": [
       "array([7, 2, 1, ..., 4, 5, 6], dtype=uint8)"
      ]
     },
     "execution_count": 19,
     "metadata": {},
     "output_type": "execute_result"
    }
   ],
   "source": [
    "test_y"
   ]
  },
  {
   "cell_type": "code",
   "execution_count": 20,
   "id": "bebf1c62",
   "metadata": {},
   "outputs": [
    {
     "data": {
      "image/png": "[encoded data removed]",
      "text/plain": [
       "<Figure size 640x480 with 5 Axes>"
      ]
     },
     "metadata": {},
     "output_type": "display_data"
    }
   ],
   "source": [
    "# 02(a) - Display the first five images from the training dataset\n",
    "fig, axes = plt.subplots(nrows=1, ncols=5)\n",
    "for idx, x in enumerate(axes):\n",
    "    x.imshow(train_x[idx], cmap=plt.get_cmap('BrBG'))\n",
    "plt.show()"
   ]
  },
  {
   "cell_type": "markdown",
   "id": "8b12ac32",
   "metadata": {},
   "source": [
    "The code successfully loads the MNIST dataset, and the initial five images are showcased alongside their corresponding labels."
   ]
  },
  {
   "cell_type": "code",
   "execution_count": 21,
   "id": "e43e016f",
   "metadata": {},
   "outputs": [
    {
     "name": "stdout",
     "output_type": "stream",
     "text": [
      "   label\n",
      "0      5\n",
      "1      0\n",
      "2      4\n",
      "3      1\n",
      "4      9\n"
     ]
    }
   ],
   "source": [
    "# 02(b) - Display the first five training labels\n",
    "first_five_labels = pd.DataFrame(train_y[0:5]).set_axis(['label'], axis=1)\n",
    "print(first_five_labels)"
   ]
  },
  {
   "cell_type": "code",
   "execution_count": 22,
   "id": "5444fa27",
   "metadata": {},
   "outputs": [
    {
     "name": "stdout",
     "output_type": "stream",
     "text": [
      "Model: \"sequential_1\"\n",
      "_________________________________________________________________\n",
      " Layer (type)                Output Shape              Param #   \n",
      "=================================================================\n",
      " conv2d_1 (Conv2D)           (None, 24, 24, 64)        1664      \n",
      "                                                                 \n",
      " max_pooling2d_1 (MaxPoolin  (None, 12, 12, 64)        0         \n",
      " g2D)                                                            \n",
      "                                                                 \n",
      " dropout_2 (Dropout)         (None, 12, 12, 64)        0         \n",
      "                                                                 \n",
      " flatten_1 (Flatten)         (None, 9216)              0         \n",
      "                                                                 \n",
      " dense_2 (Dense)             (None, 128)               1179776   \n",
      "                                                                 \n",
      " dropout_3 (Dropout)         (None, 128)               0         \n",
      "                                                                 \n",
      " dense_3 (Dense)             (None, 10)                1290      \n",
      "                                                                 \n",
      "=================================================================\n",
      "Total params: 1182730 (4.51 MB)\n",
      "Trainable params: 1182730 (4.51 MB)\n",
      "Non-trainable params: 0 (0.00 Byte)\n",
      "_________________________________________________________________\n"
     ]
    }
   ],
   "source": [
    "# 03 -  Build and train a Keras CNN classifier on the MNIST training set.\n",
    "# Set image data format and reshape train and test data\n",
    "K.set_image_data_format('channels_last')\n",
    "channels = 1\n",
    "height = 28\n",
    "width = 28\n",
    "train_data = train_x.reshape(train_x.shape[0], height, width, channels)\n",
    "test_data = test_x.reshape(test_x.shape[0], height, width, channels)\n",
    "# Normalize pixel intensity 0-1 and one-hot encode target data\n",
    "features_train = train_data / 255\n",
    "features_test = test_data / 255\n",
    "target_train = to_categorical(train_y)\n",
    "target_test = to_categorical(test_y)\n",
    "classes = target_test.shape[1]\n",
    "# Define the CNN model architecture\n",
    "model = Sequential()\n",
    "model.add(Conv2D(filters=64, kernel_size=(5, 5), input_shape=(width,height,channels), activation='relu'))\n",
    "model.add(MaxPooling2D(pool_size=(2, 2)))\n",
    "model.add(Dropout(0.5))\n",
    "model.add(Flatten())\n",
    "model.add(Dense(128, activation=\"relu\"))\n",
    "model.add(Dropout(0.5))\n",
    "model.add(Dense(classes, activation=\"softmax\"))\n",
    "# Compile the model\n",
    "model.compile(loss='categorical_crossentropy',optimizer='rmsprop',metrics=['accuracy'])\n",
    "# Train the model\n",
    "history = model.fit(features_train, target_train, epochs=2,verbose=0,batch_size=1000,\n",
    "                    validation_data=(features_test, target_test))\n",
    "# Display the model summary\n",
    "model.summary()"
   ]
  },
  {
   "cell_type": "code",
   "execution_count": 23,
   "id": "77b54120",
   "metadata": {},
   "outputs": [
    {
     "name": "stdout",
     "output_type": "stream",
     "text": [
      "313/313 [==============================] - 0s 1ms/step\n"
     ]
    }
   ],
   "source": [
    "# Evaluate the model using test data\n",
    "score = model.evaluate(features_test, target_test, verbose=0)\n",
    "# Predict test values for confusion matrix\n",
    "pred = model.predict(features_test, batch_size=32)\n",
    "pred = np.argmax(pred, axis=1)\n",
    "test = np.argmax(target_test, axis=1)"
   ]
  },
  {
   "cell_type": "code",
   "execution_count": 24,
   "id": "c5797f04",
   "metadata": {},
   "outputs": [
    {
     "name": "stdout",
     "output_type": "stream",
     "text": [
      "\n",
      "Classification Report:\n",
      "              precision    recall  f1-score   support\n",
      "\n",
      "           0       0.98      0.99      0.98       980\n",
      "           1       0.99      0.99      0.99      1135\n",
      "           2       0.97      0.97      0.97      1032\n",
      "           3       0.96      0.99      0.97      1010\n",
      "           4       0.97      0.98      0.98       982\n",
      "           5       0.98      0.98      0.98       892\n",
      "           6       0.97      0.98      0.98       958\n",
      "           7       0.97      0.97      0.97      1028\n",
      "           8       0.97      0.97      0.97       974\n",
      "           9       0.99      0.93      0.96      1009\n",
      "\n",
      "    accuracy                           0.98     10000\n",
      "   macro avg       0.98      0.98      0.97     10000\n",
      "weighted avg       0.98      0.98      0.98     10000\n",
      "\n"
     ]
    }
   ],
   "source": [
    "# 04 - Report the test accuracy of your model.\n",
    "# Display the classification report\n",
    "class_report = classification_report(test, pred)\n",
    "print('\\nClassification Report:')\n",
    "print(class_report)"
   ]
  },
  {
   "cell_type": "code",
   "execution_count": 25,
   "id": "4435e145",
   "metadata": {},
   "outputs": [
    {
     "name": "stdout",
     "output_type": "stream",
     "text": [
      "Test loss: 0.08057199418544769\n",
      "Test accuracy: 0.9750999808311462\n"
     ]
    }
   ],
   "source": [
    "# Display model accuracy and loss\n",
    "print(\"Test loss:\", score[0])\n",
    "print(\"Test accuracy:\", score[1])"
   ]
  },
  {
   "cell_type": "markdown",
   "id": "461b375b",
   "metadata": {},
   "source": [
    "* High Precision: The model demonstrates exceptional precision for most digits, ranging from 96% to 99%. This signifies its ability to accurately classify positive instances without mislabeling negatives.It is calculated for each class. For example, for class 0, precision is 0.97, meaning that when the model predicts class 0, it is correct 97% of the time.\n",
    "\n",
    "* Recall: Recall is the ability of the classifier to find all the positive samples. Across the board, the recall values are generally high, ranging from 96% to 99%. For class 0, recall is 0.99, meaning that the model correctly identifies 99% of the actual instances of class 0.\n",
    "\n",
    "* F1-scores: F1-Score is the harmonic mean of precision and recall. It provides a balance between precision and recall. A high F1-score indicates a good balance between precision and recall. For example, for class 0, the F1-score is 0.98.The F1-scores, harmonizing precision and recall, are consistently impressive, ranging from 96% to 98%.\n",
    "\n",
    "* Accuracy: Test accuracy is 0.9715999960899353, meaning the model is correct 97% of the time.\n",
    "\n",
    "###### In summary, the classification report underscores the model’s effectiveness in discerning between digits, with consistently high precision, recall, and F1-scores. The nuanced analysis of each digit provides valuable insights into the model’s strengths and areas of optimization."
   ]
  },
  {
   "cell_type": "code",
   "execution_count": 26,
   "id": "0c2048b4",
   "metadata": {},
   "outputs": [
    {
     "name": "stdout",
     "output_type": "stream",
     "text": [
      "\n",
      "Confusion Matrix:\n",
      "     0     1     2    3    4    5    6    7    8    9\n",
      "0  970     0     1    1    0    0    5    1    2    0\n",
      "1    0  1121     1    3    0    0    6    0    4    0\n",
      "2    4     1  1000    5    4    0    1   10    7    0\n",
      "3    0     0     2  996    0    4    0    6    2    0\n",
      "4    1     0     3    0  967    0    6    0    2    3\n",
      "5    2     0     0    7    0  875    3    1    4    0\n",
      "6    5     2     0    0    2    3  942    0    4    0\n",
      "7    1     3    21    2    1    0    0  998    1    1\n",
      "8    5     0     2    8    4    3    4    5  941    2\n",
      "9    6     5     1   15   16    9    1   11    4  941\n"
     ]
    }
   ],
   "source": [
    "# 05 - Display a confusion matrix on the test set classifications.\n",
    "conf_matrix = confusion_matrix(test, pred)\n",
    "print('\\nConfusion Matrix:')\n",
    "print(pd.DataFrame(conf_matrix))"
   ]
  },
  {
   "cell_type": "markdown",
   "id": "de90efc7",
   "metadata": {},
   "source": [
    "#####  Conclusion\n",
    "* Test Loss and Test Accuracy serve as critical metrics to evaluate the performance of the model on the test dataset.\n",
    "\n",
    "* The Test Loss, measuring the model’s prediction error, reflects how closely its predictions align with the actual values. A lower test loss, as evidenced by the approximate value of 0.098, signifies superior performance. This suggests that the model’s predictions exhibit a high degree of accuracy.\n",
    "\n",
    "* On the other hand, Test Accuracy gauges the model’s precision in classifying instances within the test dataset. With an approximate value of 0.97, equivalent to a 97% accuracy rate, the model excels in correctly identifying the digit images within the test set. This high accuracy indicates the model’s proficiency in generalizing learned patterns from the training data to new, unseen examples.\n",
    "\n",
    "* In summary, the CNN model has demonstrated success in learning and generalizing meaningful patterns from the training data to the test data. Its high test accuracy and relatively low test loss underscore its capability to accurately classify handwritten digits from the MNIST dataset."
   ]
  },
  {
   "cell_type": "code",
   "execution_count": null,
   "id": "d0580504",
   "metadata": {},
   "outputs": [],
   "source": []
  }
 ],
 "metadata": {
  "kernelspec": {
   "display_name": "Python 3 (ipykernel)",
   "language": "python",
   "name": "python3"
  },
  "language_info": {
   "codemirror_mode": {
    "name": "ipython",
    "version": 3
   },
   "file_extension": ".py",
   "mimetype": "text/x-python",
   "name": "python",
   "nbconvert_exporter": "python",
   "pygments_lexer": "ipython3",
   "version": "3.11.5"
  }
 },
 "nbformat": 4,
 "nbformat_minor": 5
}
