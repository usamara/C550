{
 "cells": [
  {
   "cell_type": "markdown",
   "id": "4a480b43",
   "metadata": {},
   "source": [
    "## Class : C550-T301 Data Mining (2241-1)\n",
    "## Name : Rajib Samanta\n",
    "### Assignment : Week 6 ,8 & 10\n",
    "### Term Project Milestone 1: Data Selection and EDA\n",
    "### Topic : Personality Prediction\n",
    "\n",
    "#### Data Source : https://www.kaggle.com/datasets/datasnaek/mbti-type/data\n",
    "\n",
    "#### About Data File :\n",
    "   The Myers–Briggs Type Indicator (MBTI) is a kind of psychological classification about human’s experience. \n",
    "     using four principal psychological functions, sensation, intuition, feeling, and thinking, \n",
    "        constructed by Katharine Cook Briggs and her daughter Isabel Briggs Myers.\n",
    "   The Myers Briggs Type Indicator (or MBTI for short) is a personality type system that divides everyone. \n",
    "        into 16 distinct personality types across 4 axes:\n",
    "        \n",
    "            * Introversion (I) – Extroversion (E)\n",
    "            * Intuition (N) – Sensing (S)\n",
    "            * Thinking (T) – Feeling (F)\n",
    "            * Judging (J) – Perceiving (P)\n",
    "            "
   ]
  },
  {
   "cell_type": "markdown",
   "id": "a0664db2",
   "metadata": {},
   "source": [
    "### Overview\n",
    "  Organization needs to classify the individuals based on their personality traits. The availability of high dimensional and large amount of date has paved the way for increasing the effectiveness of marketing campaigns by targeting specific people. This will increase the popularity and attractiveness of products and services. Some common examples:\n",
    "  1. Personalizing the online advertisement campaigns.\n",
    "  2. Incorporate a personality-based approach to increase the attractiveness of recommended products.\n",
    "  3. Personality based adaptations can also provide personalized visualization and better music recommendations.\n",
    "  \n",
    "  * In this project we will use machine learning to evaluate the MBTIs validity and ability to predict language styles and behaviour online."
   ]
  },
  {
   "cell_type": "code",
   "execution_count": 52,
   "id": "0890ed30",
   "metadata": {},
   "outputs": [],
   "source": [
    "# Import Libraries\n",
    "# Import Libraries\n",
    "import pandas as pd\n",
    "import os\n",
    "import numpy as np\n",
    "#pip install textblob\n",
    "from textblob import TextBlob\n",
    "# pip install vaderSentiment\n",
    "from vaderSentiment.vaderSentiment import SentimentIntensityAnalyzer\n",
    "import re\n",
    "# pip install nltk\n",
    "import nltk\n",
    "from nltk.corpus import stopwords\n",
    "import wordcloud\n",
    "from wordcloud import WordCloud, STOPWORDS\n",
    "import collections\n",
    "from collections import Counter\n",
    "from nltk.stem import PorterStemmer\n",
    "from sklearn.model_selection import train_test_split\n",
    "from sklearn.feature_extraction.text import CountVectorizer\n",
    "from sklearn.feature_extraction.text import TfidfVectorizer\n",
    "from sklearn.linear_model import LogisticRegression\n",
    "from sklearn.metrics import accuracy_score\n",
    "from sklearn.metrics import accuracy_score, confusion_matrix\n",
    "import matplotlib.pyplot as plt\n",
    "import seaborn as sns\n",
    "from sklearn.metrics import classification_report\n",
    "from sklearn.metrics import roc_curve, roc_auc_score\n",
    "from sklearn.svm import SVC\n",
    "from sklearn.preprocessing import LabelEncoder  #encoding categorical data to numerical\n",
    "from sklearn.ensemble import RandomForestClassifier, GradientBoostingClassifier\n",
    "from xgboost import XGBClassifier\n",
    "from sklearn.linear_model import SGDClassifier"
   ]
  },
  {
   "cell_type": "code",
   "execution_count": 53,
   "id": "2ce7c2a9",
   "metadata": {},
   "outputs": [],
   "source": [
    "# pip install xgboost"
   ]
  },
  {
   "cell_type": "code",
   "execution_count": 54,
   "id": "01241f97",
   "metadata": {},
   "outputs": [
    {
     "name": "stdout",
     "output_type": "stream",
     "text": [
      "/Users/rajibsamanta/Documents/Rajib/College/Sem6_fall_2023/Week6\n"
     ]
    },
    {
     "data": {
      "text/html": [
       "<div>\n",
       "<style scoped>\n",
       "    .dataframe tbody tr th:only-of-type {\n",
       "        vertical-align: middle;\n",
       "    }\n",
       "\n",
       "    .dataframe tbody tr th {\n",
       "        vertical-align: top;\n",
       "    }\n",
       "\n",
       "    .dataframe thead th {\n",
       "        text-align: right;\n",
       "    }\n",
       "</style>\n",
       "<table border=\"1\" class=\"dataframe\">\n",
       "  <thead>\n",
       "    <tr style=\"text-align: right;\">\n",
       "      <th></th>\n",
       "      <th>type</th>\n",
       "      <th>posts</th>\n",
       "    </tr>\n",
       "  </thead>\n",
       "  <tbody>\n",
       "    <tr>\n",
       "      <th>0</th>\n",
       "      <td>INFJ</td>\n",
       "      <td>'http://www.youtube.com/watch?v=qsXHcwe3krw|||...</td>\n",
       "    </tr>\n",
       "    <tr>\n",
       "      <th>1</th>\n",
       "      <td>ENTP</td>\n",
       "      <td>'I'm finding the lack of me in these posts ver...</td>\n",
       "    </tr>\n",
       "    <tr>\n",
       "      <th>2</th>\n",
       "      <td>INTP</td>\n",
       "      <td>'Good one  _____   https://www.youtube.com/wat...</td>\n",
       "    </tr>\n",
       "    <tr>\n",
       "      <th>3</th>\n",
       "      <td>INTJ</td>\n",
       "      <td>'Dear INTP,   I enjoyed our conversation the o...</td>\n",
       "    </tr>\n",
       "    <tr>\n",
       "      <th>4</th>\n",
       "      <td>ENTJ</td>\n",
       "      <td>'You're fired.|||That's another silly misconce...</td>\n",
       "    </tr>\n",
       "  </tbody>\n",
       "</table>\n",
       "</div>"
      ],
      "text/plain": [
       "   type                                              posts\n",
       "0  INFJ  'http://www.youtube.com/watch?v=qsXHcwe3krw|||...\n",
       "1  ENTP  'I'm finding the lack of me in these posts ver...\n",
       "2  INTP  'Good one  _____   https://www.youtube.com/wat...\n",
       "3  INTJ  'Dear INTP,   I enjoyed our conversation the o...\n",
       "4  ENTJ  'You're fired.|||That's another silly misconce..."
      ]
     },
     "execution_count": 54,
     "metadata": {},
     "output_type": "execute_result"
    }
   ],
   "source": [
    "# Read the  dataset  file ('mbti_1.csv') from local:\n",
    "directory = '/Users/rajibsamanta/Documents/Rajib/College/Sem6_fall_2023/Week6' \n",
    "# Set the working directory\n",
    "os.chdir(directory)\n",
    "print(os.getcwd())\n",
    "# 1. Import the movie review data as a data frame and ensure that the data is loaded properly.\n",
    "\n",
    "file_name = \"mbti_1.csv\"\n",
    "\n",
    "# Load the dataset into a pandas DataFrame\n",
    "df = pd.read_csv(file_name, delimiter=',')\n",
    "\n",
    "# Display few records.\n",
    "df.head()"
   ]
  },
  {
   "cell_type": "code",
   "execution_count": 55,
   "id": "7dc50518",
   "metadata": {},
   "outputs": [
    {
     "name": "stdout",
     "output_type": "stream",
     "text": [
      "<class 'pandas.core.frame.DataFrame'>\n",
      "RangeIndex: 8675 entries, 0 to 8674\n",
      "Data columns (total 2 columns):\n",
      " #   Column  Non-Null Count  Dtype \n",
      "---  ------  --------------  ----- \n",
      " 0   type    8675 non-null   object\n",
      " 1   posts   8675 non-null   object\n",
      "dtypes: object(2)\n",
      "memory usage: 135.7+ KB\n"
     ]
    }
   ],
   "source": [
    "# Describe the data \n",
    "df.info()"
   ]
  },
  {
   "cell_type": "markdown",
   "id": "7e33d1de",
   "metadata": {},
   "source": [
    "    There are only 2 columns in the dataset\n",
    "    Total no. of rows are 8675\n",
    "    There are no null values present in the dataset\n",
    "    One Disadvantage is that all values are textual, hence they have to be converted to numerical form \n",
    "    to train the ML model"
   ]
  },
  {
   "cell_type": "code",
   "execution_count": 56,
   "id": "ff924033",
   "metadata": {},
   "outputs": [
    {
     "data": {
      "text/plain": [
       "array(['INFJ', 'ENTP', 'INTP', 'INTJ', 'ENTJ', 'ENFJ', 'INFP', 'ENFP',\n",
       "       'ISFP', 'ISTP', 'ISFJ', 'ISTJ', 'ESTP', 'ESFP', 'ESTJ', 'ESFJ'],\n",
       "      dtype=object)"
      ]
     },
     "execution_count": 56,
     "metadata": {},
     "output_type": "execute_result"
    }
   ],
   "source": [
    "#displays unique values in type column\n",
    "df['type'].unique()   "
   ]
  },
  {
   "cell_type": "markdown",
   "id": "f6e1e8a5",
   "metadata": {},
   "source": [
    "* It has 16 distinct personality types"
   ]
  },
  {
   "cell_type": "code",
   "execution_count": 57,
   "id": "7bca7c87",
   "metadata": {},
   "outputs": [
    {
     "data": {
      "text/plain": [
       "Text(0.5, 1.0, 'Total posts for each personality type')"
      ]
     },
     "execution_count": 57,
     "metadata": {},
     "output_type": "execute_result"
    },
    {
     "data": {
      "image/png": "[encoded data removed]",
      "text/plain": [
       "<Figure size 864x288 with 1 Axes>"
      ]
     },
     "metadata": {},
     "output_type": "display_data"
    }
   ],
   "source": [
    "# Data visualization for no. of posts for each personality type\n",
    "# Group by the data using type\n",
    "df_total = df.groupby(['type']).count()\n",
    "\n",
    "plt.figure(figsize = (12,4))\n",
    "plt.bar(np.array(df_total.index), height = df_total['posts'],)\n",
    "plt.xlabel('Personality types', size = 14)\n",
    "plt.ylabel('No. of posts available', size = 14)\n",
    "plt.title('Total posts for each personality type')"
   ]
  },
  {
   "cell_type": "markdown",
   "id": "3f3251c0",
   "metadata": {},
   "source": [
    "We observe that some of the personality types has a lot more data than others, the most common Kaggle users personality is INFP (Introvert Intuition Feeling Perceiving).\n",
    "We can consider for now that users who comment on social media more frequently are more intoverted, perceptive, and emotional."
   ]
  },
  {
   "cell_type": "code",
   "execution_count": 58,
   "id": "1d023187",
   "metadata": {},
   "outputs": [
    {
     "data": {
      "text/html": [
       "<div>\n",
       "<style scoped>\n",
       "    .dataframe tbody tr th:only-of-type {\n",
       "        vertical-align: middle;\n",
       "    }\n",
       "\n",
       "    .dataframe tbody tr th {\n",
       "        vertical-align: top;\n",
       "    }\n",
       "\n",
       "    .dataframe thead th {\n",
       "        text-align: right;\n",
       "    }\n",
       "</style>\n",
       "<table border=\"1\" class=\"dataframe\">\n",
       "  <thead>\n",
       "    <tr style=\"text-align: right;\">\n",
       "      <th></th>\n",
       "      <th>type</th>\n",
       "      <th>posts</th>\n",
       "      <th>words_per_comment</th>\n",
       "      <th>variance_of_word_counts</th>\n",
       "    </tr>\n",
       "  </thead>\n",
       "  <tbody>\n",
       "    <tr>\n",
       "      <th>0</th>\n",
       "      <td>INFJ</td>\n",
       "      <td>'http://www.youtube.com/watch?v=qsXHcwe3krw|||...</td>\n",
       "      <td>11.12</td>\n",
       "      <td>135.2900</td>\n",
       "    </tr>\n",
       "    <tr>\n",
       "      <th>1</th>\n",
       "      <td>ENTP</td>\n",
       "      <td>'I'm finding the lack of me in these posts ver...</td>\n",
       "      <td>23.40</td>\n",
       "      <td>187.4756</td>\n",
       "    </tr>\n",
       "    <tr>\n",
       "      <th>2</th>\n",
       "      <td>INTP</td>\n",
       "      <td>'Good one  _____   https://www.youtube.com/wat...</td>\n",
       "      <td>16.72</td>\n",
       "      <td>180.6900</td>\n",
       "    </tr>\n",
       "    <tr>\n",
       "      <th>3</th>\n",
       "      <td>INTJ</td>\n",
       "      <td>'Dear INTP,   I enjoyed our conversation the o...</td>\n",
       "      <td>21.28</td>\n",
       "      <td>181.8324</td>\n",
       "    </tr>\n",
       "    <tr>\n",
       "      <th>4</th>\n",
       "      <td>ENTJ</td>\n",
       "      <td>'You're fired.|||That's another silly misconce...</td>\n",
       "      <td>19.34</td>\n",
       "      <td>196.4576</td>\n",
       "    </tr>\n",
       "  </tbody>\n",
       "</table>\n",
       "</div>"
      ],
      "text/plain": [
       "   type                                              posts  words_per_comment  \\\n",
       "0  INFJ  'http://www.youtube.com/watch?v=qsXHcwe3krw|||...              11.12   \n",
       "1  ENTP  'I'm finding the lack of me in these posts ver...              23.40   \n",
       "2  INTP  'Good one  _____   https://www.youtube.com/wat...              16.72   \n",
       "3  INTJ  'Dear INTP,   I enjoyed our conversation the o...              21.28   \n",
       "4  ENTJ  'You're fired.|||That's another silly misconce...              19.34   \n",
       "\n",
       "   variance_of_word_counts  \n",
       "0                 135.2900  \n",
       "1                 187.4756  \n",
       "2                 180.6900  \n",
       "3                 181.8324  \n",
       "4                 196.4576  "
      ]
     },
     "execution_count": 58,
     "metadata": {},
     "output_type": "execute_result"
    }
   ],
   "source": [
    "#This function counts the no of words in each post of a user\n",
    "def var_row(row):\n",
    "    l = []\n",
    "    for i in row.split('|||'):\n",
    "        l.append(len(i.split()))\n",
    "    return np.var(l)\n",
    "\n",
    "#this function counts the no of words per post out of the total 50 posts in the whole row\n",
    "df['words_per_comment'] = df['posts'].apply(lambda x: len(x.split())/50)\n",
    "df['variance_of_word_counts'] = df['posts'].apply(lambda x: var_row(x))\n",
    "df.head()"
   ]
  },
  {
   "cell_type": "markdown",
   "id": "5c66d402",
   "metadata": {},
   "source": [
    "Since the original dataset only came with 2 features, the Type and 50 posts for each person, lets create additional features for exploring & analysing our dataset.Added two more parameter words per comments and Variance of words\n"
   ]
  },
  {
   "cell_type": "code",
   "execution_count": 59,
   "id": "ff4b1d55",
   "metadata": {},
   "outputs": [
    {
     "name": "stderr",
     "output_type": "stream",
     "text": [
      "/Users/rajibsamanta/opt/anaconda3/lib/python3.9/site-packages/seaborn/distributions.py:2619: FutureWarning: `distplot` is a deprecated function and will be removed in a future version. Please adapt your code to use either `displot` (a figure-level function with similar flexibility) or `histplot` (an axes-level function for histograms).\n",
      "  warnings.warn(msg, FutureWarning)\n"
     ]
    },
    {
     "data": {
      "text/plain": [
       "Text(0.5, 1.0, 'Distribution of Lengths of all 50 Posts')"
      ]
     },
     "execution_count": 59,
     "metadata": {},
     "output_type": "execute_result"
    },
    {
     "data": {
      "image/png": "[encoded data removed]",
      "text/plain": [
       "<Figure size 432x288 with 1 Axes>"
      ]
     },
     "metadata": {},
     "output_type": "display_data"
    }
   ],
   "source": [
    "# Add length of the post \n",
    "df[\"length_posts\"] = df[\"posts\"].apply(len)\n",
    "sns.distplot(df[\"length_posts\"]).set_title(\"Distribution of Lengths of all 50 Posts\")"
   ]
  },
  {
   "cell_type": "markdown",
   "id": "f27bc692",
   "metadata": {},
   "source": [
    "We can see that most no of lengthly posts have between 7000-9000 words"
   ]
  },
  {
   "cell_type": "code",
   "execution_count": 60,
   "id": "d353822d",
   "metadata": {},
   "outputs": [
    {
     "data": {
      "text/plain": [
       "[('I', 387957),\n",
       " ('to', 290168),\n",
       " ('the', 270699),\n",
       " ('a', 230918),\n",
       " ('and', 219498),\n",
       " ('of', 177853),\n",
       " ('is', 128804),\n",
       " ('you', 128750),\n",
       " ('that', 127221),\n",
       " ('in', 117263),\n",
       " ('my', 104561),\n",
       " ('it', 93101),\n",
       " ('for', 83057),\n",
       " ('have', 79784),\n",
       " ('with', 77131),\n",
       " ('but', 74729),\n",
       " ('be', 69317),\n",
       " ('are', 65034),\n",
       " ('like', 61390),\n",
       " ('not', 59496)]"
      ]
     },
     "execution_count": 60,
     "metadata": {},
     "output_type": "execute_result"
    }
   ],
   "source": [
    "#Finding the most common words in all posts.Top 20\n",
    "words = list(df[\"posts\"].apply(lambda x: x.split()))\n",
    "words = [x for y in words for x in y]\n",
    "Counter(words).most_common(20) "
   ]
  },
  {
   "cell_type": "code",
   "execution_count": 61,
   "id": "a540b787",
   "metadata": {},
   "outputs": [
    {
     "data": {
      "text/html": [
       "<div>\n",
       "<style scoped>\n",
       "    .dataframe tbody tr th:only-of-type {\n",
       "        vertical-align: middle;\n",
       "    }\n",
       "\n",
       "    .dataframe tbody tr th {\n",
       "        vertical-align: top;\n",
       "    }\n",
       "\n",
       "    .dataframe thead th {\n",
       "        text-align: right;\n",
       "    }\n",
       "</style>\n",
       "<table border=\"1\" class=\"dataframe\">\n",
       "  <thead>\n",
       "    <tr style=\"text-align: right;\">\n",
       "      <th></th>\n",
       "      <th>Word</th>\n",
       "      <th>Count</th>\n",
       "    </tr>\n",
       "  </thead>\n",
       "  <tbody>\n",
       "    <tr>\n",
       "      <th>0</th>\n",
       "      <td>I</td>\n",
       "      <td>387957</td>\n",
       "    </tr>\n",
       "    <tr>\n",
       "      <th>1</th>\n",
       "      <td>to</td>\n",
       "      <td>290168</td>\n",
       "    </tr>\n",
       "    <tr>\n",
       "      <th>2</th>\n",
       "      <td>the</td>\n",
       "      <td>270699</td>\n",
       "    </tr>\n",
       "    <tr>\n",
       "      <th>3</th>\n",
       "      <td>a</td>\n",
       "      <td>230918</td>\n",
       "    </tr>\n",
       "    <tr>\n",
       "      <th>4</th>\n",
       "      <td>and</td>\n",
       "      <td>219498</td>\n",
       "    </tr>\n",
       "  </tbody>\n",
       "</table>\n",
       "</div>"
      ],
      "text/plain": [
       "  Word   Count\n",
       "0    I  387957\n",
       "1   to  290168\n",
       "2  the  270699\n",
       "3    a  230918\n",
       "4  and  219498"
      ]
     },
     "execution_count": 61,
     "metadata": {},
     "output_type": "execute_result"
    }
   ],
   "source": [
    "\n",
    "# Convert the list to a DataFrame\n",
    "df_words = pd.DataFrame(Counter(words).most_common(20) , columns=['Word', 'Count'])\n",
    "df_words.head()\n"
   ]
  },
  {
   "cell_type": "code",
   "execution_count": 62,
   "id": "fd1fc94a",
   "metadata": {},
   "outputs": [
    {
     "data": {
      "text/plain": [
       "Text(0.5, 1.0, 'Posts with Common word count')"
      ]
     },
     "execution_count": 62,
     "metadata": {},
     "output_type": "execute_result"
    },
    {
     "data": {
      "image/png": "[encoded data removed]",
      "text/plain": [
       "<Figure size 864x288 with 1 Axes>"
      ]
     },
     "metadata": {},
     "output_type": "display_data"
    }
   ],
   "source": [
    "# Barplot for commonly used words.\n",
    "plt.figure(figsize = (12,4))\n",
    "plt.bar(df_words['Word'], height = df_words['Count'],)\n",
    "plt.xlabel('Word', size = 14)\n",
    "plt.ylabel('Common Word Count', size = 14)\n",
    "plt.title('Posts with Common word count')"
   ]
  },
  {
   "cell_type": "markdown",
   "id": "a91df91f",
   "metadata": {},
   "source": [
    "#### Next Steps:\n",
    "#### Feature Engineering:\n",
    "    Convert the text data into numerical features that machine learning models can understand. \n",
    "#### Label Encoding:\n",
    "    Encode the categorical MBTI personality types into numerical labels. For example, convert \"INFP\" to 1,\n",
    "    \"ENFJ\" to 2, and so on.\n",
    "#### Data Splitting:\n",
    "    Split the dataset into training, validation, and test sets. \n",
    "#### Model Selection:\n",
    "    Choose a machine learning model suitable for text classification tasks. Common choices include logistic regression, support vector machines, random forests, and neural networks\n",
    "#### Model Training:\n",
    "    Train the selected model on the training dataset using the prepared text features and the corresponding MBTI labels."
   ]
  },
  {
   "cell_type": "markdown",
   "id": "c88c2f5f",
   "metadata": {},
   "source": [
    "# Week 8 and week 10"
   ]
  },
  {
   "cell_type": "code",
   "execution_count": 63,
   "id": "bf2ffd31",
   "metadata": {},
   "outputs": [
    {
     "data": {
      "text/html": [
       "<div>\n",
       "<style scoped>\n",
       "    .dataframe tbody tr th:only-of-type {\n",
       "        vertical-align: middle;\n",
       "    }\n",
       "\n",
       "    .dataframe tbody tr th {\n",
       "        vertical-align: top;\n",
       "    }\n",
       "\n",
       "    .dataframe thead th {\n",
       "        text-align: right;\n",
       "    }\n",
       "</style>\n",
       "<table border=\"1\" class=\"dataframe\">\n",
       "  <thead>\n",
       "    <tr style=\"text-align: right;\">\n",
       "      <th></th>\n",
       "      <th>type</th>\n",
       "      <th>posts</th>\n",
       "      <th>words_per_comment</th>\n",
       "      <th>variance_of_word_counts</th>\n",
       "      <th>length_posts</th>\n",
       "    </tr>\n",
       "  </thead>\n",
       "  <tbody>\n",
       "    <tr>\n",
       "      <th>0</th>\n",
       "      <td>INFJ</td>\n",
       "      <td>'http://www.youtube.com/watch?v=qsXHcwe3krw|||...</td>\n",
       "      <td>11.12</td>\n",
       "      <td>135.2900</td>\n",
       "      <td>4652</td>\n",
       "    </tr>\n",
       "    <tr>\n",
       "      <th>1</th>\n",
       "      <td>ENTP</td>\n",
       "      <td>'I'm finding the lack of me in these posts ver...</td>\n",
       "      <td>23.40</td>\n",
       "      <td>187.4756</td>\n",
       "      <td>7053</td>\n",
       "    </tr>\n",
       "    <tr>\n",
       "      <th>2</th>\n",
       "      <td>INTP</td>\n",
       "      <td>'Good one  _____   https://www.youtube.com/wat...</td>\n",
       "      <td>16.72</td>\n",
       "      <td>180.6900</td>\n",
       "      <td>5265</td>\n",
       "    </tr>\n",
       "    <tr>\n",
       "      <th>3</th>\n",
       "      <td>INTJ</td>\n",
       "      <td>'Dear INTP,   I enjoyed our conversation the o...</td>\n",
       "      <td>21.28</td>\n",
       "      <td>181.8324</td>\n",
       "      <td>6271</td>\n",
       "    </tr>\n",
       "    <tr>\n",
       "      <th>4</th>\n",
       "      <td>ENTJ</td>\n",
       "      <td>'You're fired.|||That's another silly misconce...</td>\n",
       "      <td>19.34</td>\n",
       "      <td>196.4576</td>\n",
       "      <td>6111</td>\n",
       "    </tr>\n",
       "    <tr>\n",
       "      <th>5</th>\n",
       "      <td>INTJ</td>\n",
       "      <td>'18/37 @.@|||Science  is not perfect. No scien...</td>\n",
       "      <td>29.82</td>\n",
       "      <td>97.7200</td>\n",
       "      <td>8589</td>\n",
       "    </tr>\n",
       "    <tr>\n",
       "      <th>6</th>\n",
       "      <td>INFJ</td>\n",
       "      <td>'No, I can't draw on my own nails (haha). Thos...</td>\n",
       "      <td>26.58</td>\n",
       "      <td>151.3664</td>\n",
       "      <td>7916</td>\n",
       "    </tr>\n",
       "    <tr>\n",
       "      <th>7</th>\n",
       "      <td>INTJ</td>\n",
       "      <td>'I tend to build up a collection of things on ...</td>\n",
       "      <td>24.46</td>\n",
       "      <td>174.7664</td>\n",
       "      <td>6900</td>\n",
       "    </tr>\n",
       "    <tr>\n",
       "      <th>8</th>\n",
       "      <td>INFJ</td>\n",
       "      <td>I'm not sure, that's a good question. The dist...</td>\n",
       "      <td>14.76</td>\n",
       "      <td>207.1124</td>\n",
       "      <td>5325</td>\n",
       "    </tr>\n",
       "    <tr>\n",
       "      <th>9</th>\n",
       "      <td>INTP</td>\n",
       "      <td>'https://www.youtube.com/watch?v=w8-egj0y8Qs||...</td>\n",
       "      <td>24.66</td>\n",
       "      <td>145.6704</td>\n",
       "      <td>7573</td>\n",
       "    </tr>\n",
       "  </tbody>\n",
       "</table>\n",
       "</div>"
      ],
      "text/plain": [
       "   type                                              posts  words_per_comment  \\\n",
       "0  INFJ  'http://www.youtube.com/watch?v=qsXHcwe3krw|||...              11.12   \n",
       "1  ENTP  'I'm finding the lack of me in these posts ver...              23.40   \n",
       "2  INTP  'Good one  _____   https://www.youtube.com/wat...              16.72   \n",
       "3  INTJ  'Dear INTP,   I enjoyed our conversation the o...              21.28   \n",
       "4  ENTJ  'You're fired.|||That's another silly misconce...              19.34   \n",
       "5  INTJ  '18/37 @.@|||Science  is not perfect. No scien...              29.82   \n",
       "6  INFJ  'No, I can't draw on my own nails (haha). Thos...              26.58   \n",
       "7  INTJ  'I tend to build up a collection of things on ...              24.46   \n",
       "8  INFJ  I'm not sure, that's a good question. The dist...              14.76   \n",
       "9  INTP  'https://www.youtube.com/watch?v=w8-egj0y8Qs||...              24.66   \n",
       "\n",
       "   variance_of_word_counts  length_posts  \n",
       "0                 135.2900          4652  \n",
       "1                 187.4756          7053  \n",
       "2                 180.6900          5265  \n",
       "3                 181.8324          6271  \n",
       "4                 196.4576          6111  \n",
       "5                  97.7200          8589  \n",
       "6                 151.3664          7916  \n",
       "7                 174.7664          6900  \n",
       "8                 207.1124          5325  \n",
       "9                 145.6704          7573  "
      ]
     },
     "execution_count": 63,
     "metadata": {},
     "output_type": "execute_result"
    }
   ],
   "source": [
    "# Print dataset\n",
    "\n",
    "df.head(10)"
   ]
  },
  {
   "cell_type": "markdown",
   "id": "3154fe22",
   "metadata": {},
   "source": [
    "#### Counting the no. of users and posts in the given MBTI Kaggle dataset"
   ]
  },
  {
   "cell_type": "code",
   "execution_count": 64,
   "id": "1bd46c4d",
   "metadata": {},
   "outputs": [
    {
     "name": "stdout",
     "output_type": "stream",
     "text": [
      "Number of users 8675\n",
      "Number of posts 422845\n",
      "5 posts from start are:\n"
     ]
    },
    {
     "data": {
      "text/plain": [
       "[('INFJ', \"'http://www.youtube.com/watch?v=qsXHcwe3krw\"),\n",
       " ('INFJ', 'http://41.media.tumblr.com/tumblr_lfouy03PMA1qa1rooo1_500.jpg'),\n",
       " ('INFJ',\n",
       "  'enfp and intj moments  https://www.youtube.com/watch?v=iz7lE1g4XM4  sportscenter not top ten plays  https://www.youtube.com/watch?v=uCdfze1etec  pranks'),\n",
       " ('INFJ', 'What has been the most life-changing experience in your life?'),\n",
       " ('INFJ',\n",
       "  'http://www.youtube.com/watch?v=vXZeYwwRDw8   http://www.youtube.com/watch?v=u8ejam5DP3E  On repeat for most of today.')]"
      ]
     },
     "execution_count": 64,
     "metadata": {},
     "output_type": "execute_result"
    }
   ],
   "source": [
    "def extract(posts, new_posts):\n",
    "    for post in posts[1].split(\"|||\"):\n",
    "        new_posts.append((posts[0], post))\n",
    "\n",
    "posts = []\n",
    "df.apply(lambda x: extract(x, posts), axis=1)\n",
    "print(\"Number of users\", len(df))\n",
    "print(\"Number of posts\", len(posts))\n",
    "print(\"5 posts from start are:\")\n",
    "posts[0:5]"
   ]
  },
  {
   "cell_type": "markdown",
   "id": "69ab80dd",
   "metadata": {},
   "source": [
    "* It is inferenced that a lot of hyperlinks are presnt in these posts\n",
    "* It is safe to assume that url links do not provide any real information about a user's personality, hence, we need to clean our dataset for these too."
   ]
  },
  {
   "cell_type": "markdown",
   "id": "53fe9de5",
   "metadata": {},
   "source": [
    "#### Data cleaning & Pre-Processing :"
   ]
  },
  {
   "cell_type": "code",
   "execution_count": 65,
   "id": "d1b1ec04",
   "metadata": {},
   "outputs": [],
   "source": [
    "def preprocess_text(df, remove_special=True):\n",
    "    texts = df['posts'].copy()\n",
    "    labels = df['type'].copy()\n",
    "\n",
    "    #Remove links \n",
    "    df[\"posts\"] = df[\"posts\"].apply(lambda x: re.sub(r'https?:\\/\\/.*?[\\s+]', '', x.replace(\"|\",\" \") + \" \"))\n",
    "    \n",
    "    #Keep the End Of Sentence characters\n",
    "    df[\"posts\"] = df[\"posts\"].apply(lambda x: re.sub(r'\\.', ' EOSTokenDot ', x + \" \"))\n",
    "    df[\"posts\"] = df[\"posts\"].apply(lambda x: re.sub(r'\\?', ' EOSTokenQuest ', x + \" \"))\n",
    "    df[\"posts\"] = df[\"posts\"].apply(lambda x: re.sub(r'!', ' EOSTokenExs ', x + \" \"))\n",
    "    \n",
    "    #Strip Punctation\n",
    "    df[\"posts\"] = df[\"posts\"].apply(lambda x: re.sub(r'[\\.+]', \".\",x))\n",
    "\n",
    "    #Remove multiple fullstops\n",
    "    df[\"posts\"] = df[\"posts\"].apply(lambda x: re.sub(r'[^\\w\\s]','',x))\n",
    "\n",
    "    #Remove Non-words\n",
    "    df[\"posts\"] = df[\"posts\"].apply(lambda x: re.sub(r'[^a-zA-Z\\s]','',x))\n",
    "        #Convert posts to lowercase\n",
    "    df[\"posts\"] = df[\"posts\"].apply(lambda x: x.lower())\n",
    "\n",
    "    #Remove multiple letter repeating words\n",
    "    df[\"posts\"] = df[\"posts\"].apply(lambda x: re.sub(r'([a-z])\\1{2,}[\\s|\\w]*','',x)) \n",
    "\n",
    "    #Remove very short or long words\n",
    "    df[\"posts\"] = df[\"posts\"].apply(lambda x: re.sub(r'(\\b\\w{0,3})?\\b','',x)) \n",
    "    df[\"posts\"] = df[\"posts\"].apply(lambda x: re.sub(r'(\\b\\w{30,1000})?\\b','',x))\n",
    "\n",
    "    #Remove MBTI Personality Words - crutial in order to get valid model accuracy estimation for unseen data. \n",
    "    if remove_special:\n",
    "        pers_types = ['INFP' ,'INFJ', 'INTP', 'INTJ', 'ENTP', 'ENFP', 'ISTP' ,'ISFP' ,'ENTJ', 'ISTJ','ENFJ', 'ISFJ' ,'ESTP', 'ESFP' ,'ESFJ' ,'ESTJ']\n",
    "        pers_types = [p.lower() for p in pers_types]\n",
    "        p = re.compile(\"(\" + \"|\".join(pers_types) + \")\")\n",
    "    \n",
    "    return df\n",
    "\n",
    "#Preprocessing of entered Text\n",
    "data_set = pd.read_csv(\"/Users/rajibsamanta/Documents/Rajib/College/Sem6_fall_2023/Week6/mbti_1.csv\")\n",
    "new_df = preprocess_text(data_set, remove_special=True)"
   ]
  },
  {
   "cell_type": "code",
   "execution_count": 66,
   "id": "fcb3bbc1",
   "metadata": {},
   "outputs": [
    {
     "name": "stdout",
     "output_type": "stream",
     "text": [
      "Before : Number of posts 8675\n",
      "After : Number of posts 8466\n"
     ]
    }
   ],
   "source": [
    "#Remove posts with less than X words\n",
    "min_words = 15\n",
    "print(\"Before : Number of posts\", len(new_df)) \n",
    "new_df[\"no. of. words\"] = new_df[\"posts\"].apply(lambda x: len(re.findall(r'\\w+', x)))\n",
    "new_df = new_df[new_df[\"no. of. words\"] >= min_words]\n",
    "\n",
    "print(\"After : Number of posts\", len(new_df))"
   ]
  },
  {
   "cell_type": "markdown",
   "id": "d7561169",
   "metadata": {},
   "source": [
    "#### Feature Engineering"
   ]
  },
  {
   "cell_type": "code",
   "execution_count": 67,
   "id": "42b873f3",
   "metadata": {},
   "outputs": [
    {
     "name": "stdout",
     "output_type": "stream",
     "text": [
      "(8466, 3)\n"
     ]
    }
   ],
   "source": [
    "print(new_df.shape)\n"
   ]
  },
  {
   "cell_type": "code",
   "execution_count": 68,
   "id": "18fbcf61",
   "metadata": {},
   "outputs": [
    {
     "data": {
      "text/html": [
       "<div>\n",
       "<style scoped>\n",
       "    .dataframe tbody tr th:only-of-type {\n",
       "        vertical-align: middle;\n",
       "    }\n",
       "\n",
       "    .dataframe tbody tr th {\n",
       "        vertical-align: top;\n",
       "    }\n",
       "\n",
       "    .dataframe thead th {\n",
       "        text-align: right;\n",
       "    }\n",
       "</style>\n",
       "<table border=\"1\" class=\"dataframe\">\n",
       "  <thead>\n",
       "    <tr style=\"text-align: right;\">\n",
       "      <th></th>\n",
       "      <th>type</th>\n",
       "      <th>posts</th>\n",
       "      <th>no. of. words</th>\n",
       "    </tr>\n",
       "  </thead>\n",
       "  <tbody>\n",
       "    <tr>\n",
       "      <th>0</th>\n",
       "      <td>INFJ</td>\n",
       "      <td>enfp  intj moments   sportscenter    plays...</td>\n",
       "      <td>430</td>\n",
       "    </tr>\n",
       "    <tr>\n",
       "      <th>1</th>\n",
       "      <td>ENTP</td>\n",
       "      <td>finding  lack    these posts very alarming eo...</td>\n",
       "      <td>803</td>\n",
       "    </tr>\n",
       "    <tr>\n",
       "      <th>2</th>\n",
       "      <td>INTP</td>\n",
       "      <td>good         course  which    know thats  bles...</td>\n",
       "      <td>253</td>\n",
       "    </tr>\n",
       "    <tr>\n",
       "      <th>3</th>\n",
       "      <td>INTJ</td>\n",
       "      <td>dear intp    enjoyed  conversation  other  eos...</td>\n",
       "      <td>777</td>\n",
       "    </tr>\n",
       "    <tr>\n",
       "      <th>4</th>\n",
       "      <td>ENTJ</td>\n",
       "      <td>youre fired eostokendot    thats another silly...</td>\n",
       "      <td>402</td>\n",
       "    </tr>\n",
       "  </tbody>\n",
       "</table>\n",
       "</div>"
      ],
      "text/plain": [
       "   type                                              posts  no. of. words\n",
       "0  INFJ      enfp  intj moments   sportscenter    plays...            430\n",
       "1  ENTP   finding  lack    these posts very alarming eo...            803\n",
       "2  INTP  good         course  which    know thats  bles...            253\n",
       "3  INTJ  dear intp    enjoyed  conversation  other  eos...            777\n",
       "4  ENTJ  youre fired eostokendot    thats another silly...            402"
      ]
     },
     "execution_count": 68,
     "metadata": {},
     "output_type": "execute_result"
    }
   ],
   "source": [
    "new_df.head()"
   ]
  },
  {
   "cell_type": "markdown",
   "id": "5d46485f",
   "metadata": {},
   "source": [
    "#### Splitting into Targets & Features:"
   ]
  },
  {
   "cell_type": "code",
   "execution_count": 69,
   "id": "466229cd",
   "metadata": {},
   "outputs": [
    {
     "name": "stderr",
     "output_type": "stream",
     "text": [
      "/var/folders/s5/r__yh4p17f12tlyfs6w_46xm0000gn/T/ipykernel_90320/336629569.py:5: SettingWithCopyWarning: \n",
      "A value is trying to be set on a copy of a slice from a DataFrame.\n",
      "Try using .loc[row_indexer,col_indexer] = value instead\n",
      "\n",
      "See the caveats in the documentation: https://pandas.pydata.org/pandas-docs/stable/user_guide/indexing.html#returning-a-view-versus-a-copy\n",
      "  new_df['type of encoding'] = enc.fit_transform(new_df['type'])\n"
     ]
    }
   ],
   "source": [
    "# Converting MBTI personality (or target or Y feature) into numerical form using Label Encoding\n",
    "# encoding personality type\n",
    "# Encode the categorical MBTI personality types into numerical labels. For example, convert \"INFP\" to 1,\"ENFJ\" to 2, and so on\n",
    "enc = LabelEncoder()\n",
    "new_df['type of encoding'] = enc.fit_transform(new_df['type'])\n",
    "\n",
    "target = new_df['type of encoding'] "
   ]
  },
  {
   "cell_type": "code",
   "execution_count": 70,
   "id": "2c3a5307",
   "metadata": {},
   "outputs": [
    {
     "data": {
      "text/html": [
       "<div>\n",
       "<style scoped>\n",
       "    .dataframe tbody tr th:only-of-type {\n",
       "        vertical-align: middle;\n",
       "    }\n",
       "\n",
       "    .dataframe tbody tr th {\n",
       "        vertical-align: top;\n",
       "    }\n",
       "\n",
       "    .dataframe thead th {\n",
       "        text-align: right;\n",
       "    }\n",
       "</style>\n",
       "<table border=\"1\" class=\"dataframe\">\n",
       "  <thead>\n",
       "    <tr style=\"text-align: right;\">\n",
       "      <th></th>\n",
       "      <th>type</th>\n",
       "      <th>posts</th>\n",
       "      <th>no. of. words</th>\n",
       "      <th>type of encoding</th>\n",
       "    </tr>\n",
       "  </thead>\n",
       "  <tbody>\n",
       "    <tr>\n",
       "      <th>0</th>\n",
       "      <td>INFJ</td>\n",
       "      <td>enfp  intj moments   sportscenter    plays...</td>\n",
       "      <td>430</td>\n",
       "      <td>8</td>\n",
       "    </tr>\n",
       "    <tr>\n",
       "      <th>1</th>\n",
       "      <td>ENTP</td>\n",
       "      <td>finding  lack    these posts very alarming eo...</td>\n",
       "      <td>803</td>\n",
       "      <td>3</td>\n",
       "    </tr>\n",
       "    <tr>\n",
       "      <th>2</th>\n",
       "      <td>INTP</td>\n",
       "      <td>good         course  which    know thats  bles...</td>\n",
       "      <td>253</td>\n",
       "      <td>11</td>\n",
       "    </tr>\n",
       "    <tr>\n",
       "      <th>3</th>\n",
       "      <td>INTJ</td>\n",
       "      <td>dear intp    enjoyed  conversation  other  eos...</td>\n",
       "      <td>777</td>\n",
       "      <td>10</td>\n",
       "    </tr>\n",
       "    <tr>\n",
       "      <th>4</th>\n",
       "      <td>ENTJ</td>\n",
       "      <td>youre fired eostokendot    thats another silly...</td>\n",
       "      <td>402</td>\n",
       "      <td>2</td>\n",
       "    </tr>\n",
       "    <tr>\n",
       "      <th>5</th>\n",
       "      <td>INTJ</td>\n",
       "      <td>eostokendot    science    perfect eostokendo...</td>\n",
       "      <td>245</td>\n",
       "      <td>10</td>\n",
       "    </tr>\n",
       "    <tr>\n",
       "      <th>6</th>\n",
       "      <td>INFJ</td>\n",
       "      <td>cant draw    nails haha eostokendot  those w...</td>\n",
       "      <td>970</td>\n",
       "      <td>8</td>\n",
       "    </tr>\n",
       "    <tr>\n",
       "      <th>7</th>\n",
       "      <td>INTJ</td>\n",
       "      <td>tend  build   collection  things   desktop th...</td>\n",
       "      <td>140</td>\n",
       "      <td>10</td>\n",
       "    </tr>\n",
       "    <tr>\n",
       "      <th>8</th>\n",
       "      <td>INFJ</td>\n",
       "      <td>sure thats  good question eostokendot   dist...</td>\n",
       "      <td>522</td>\n",
       "      <td>8</td>\n",
       "    </tr>\n",
       "    <tr>\n",
       "      <th>9</th>\n",
       "      <td>INTP</td>\n",
       "      <td>this position where  have  actually     pe...</td>\n",
       "      <td>130</td>\n",
       "      <td>11</td>\n",
       "    </tr>\n",
       "    <tr>\n",
       "      <th>10</th>\n",
       "      <td>INFJ</td>\n",
       "      <td>time  parents were fighting over  dads affair...</td>\n",
       "      <td>1072</td>\n",
       "      <td>8</td>\n",
       "    </tr>\n",
       "    <tr>\n",
       "      <th>11</th>\n",
       "      <td>ENFJ</td>\n",
       "      <td>went through  break  some months  eosto...</td>\n",
       "      <td>332</td>\n",
       "      <td>0</td>\n",
       "    </tr>\n",
       "    <tr>\n",
       "      <th>12</th>\n",
       "      <td>INFJ</td>\n",
       "      <td>santagato  entp   enfj   entp eostokenquest  ...</td>\n",
       "      <td>554</td>\n",
       "      <td>8</td>\n",
       "    </tr>\n",
       "    <tr>\n",
       "      <th>13</th>\n",
       "      <td>INTJ</td>\n",
       "      <td>fair enough  thats   want  look   eostokendot ...</td>\n",
       "      <td>1110</td>\n",
       "      <td>10</td>\n",
       "    </tr>\n",
       "    <tr>\n",
       "      <th>14</th>\n",
       "      <td>INTP</td>\n",
       "      <td>basically this eostokendot  eostokendot  eosto...</td>\n",
       "      <td>640</td>\n",
       "      <td>11</td>\n",
       "    </tr>\n",
       "  </tbody>\n",
       "</table>\n",
       "</div>"
      ],
      "text/plain": [
       "    type                                              posts  no. of. words  \\\n",
       "0   INFJ      enfp  intj moments   sportscenter    plays...            430   \n",
       "1   ENTP   finding  lack    these posts very alarming eo...            803   \n",
       "2   INTP  good         course  which    know thats  bles...            253   \n",
       "3   INTJ  dear intp    enjoyed  conversation  other  eos...            777   \n",
       "4   ENTJ  youre fired eostokendot    thats another silly...            402   \n",
       "5   INTJ    eostokendot    science    perfect eostokendo...            245   \n",
       "6   INFJ    cant draw    nails haha eostokendot  those w...            970   \n",
       "7   INTJ   tend  build   collection  things   desktop th...            140   \n",
       "8   INFJ    sure thats  good question eostokendot   dist...            522   \n",
       "9   INTP      this position where  have  actually     pe...            130   \n",
       "10  INFJ   time  parents were fighting over  dads affair...           1072   \n",
       "11  ENFJ         went through  break  some months  eosto...            332   \n",
       "12  INFJ   santagato  entp   enfj   entp eostokenquest  ...            554   \n",
       "13  INTJ  fair enough  thats   want  look   eostokendot ...           1110   \n",
       "14  INTP  basically this eostokendot  eostokendot  eosto...            640   \n",
       "\n",
       "    type of encoding  \n",
       "0                  8  \n",
       "1                  3  \n",
       "2                 11  \n",
       "3                 10  \n",
       "4                  2  \n",
       "5                 10  \n",
       "6                  8  \n",
       "7                 10  \n",
       "8                  8  \n",
       "9                 11  \n",
       "10                 8  \n",
       "11                 0  \n",
       "12                 8  \n",
       "13                10  \n",
       "14                11  "
      ]
     },
     "execution_count": 70,
     "metadata": {},
     "output_type": "execute_result"
    }
   ],
   "source": [
    "new_df.head(15)"
   ]
  },
  {
   "cell_type": "code",
   "execution_count": 71,
   "id": "d640955b",
   "metadata": {},
   "outputs": [
    {
     "name": "stdout",
     "output_type": "stream",
     "text": [
      "['i', 'me', 'my', 'myself', 'we', 'our', 'ours', 'ourselves', 'you', \"you're\", \"you've\", \"you'll\", \"you'd\", 'your', 'yours', 'yourself', 'yourselves', 'he', 'him', 'his', 'himself', 'she', \"she's\", 'her', 'hers', 'herself', 'it', \"it's\", 'its', 'itself', 'they', 'them', 'their', 'theirs', 'themselves', 'what', 'which', 'who', 'whom', 'this', 'that', \"that'll\", 'these', 'those', 'am', 'is', 'are', 'was', 'were', 'be', 'been', 'being', 'have', 'has', 'had', 'having', 'do', 'does', 'did', 'doing', 'a', 'an', 'the', 'and', 'but', 'if', 'or', 'because', 'as', 'until', 'while', 'of', 'at', 'by', 'for', 'with', 'about', 'against', 'between', 'into', 'through', 'during', 'before', 'after', 'above', 'below', 'to', 'from', 'up', 'down', 'in', 'out', 'on', 'off', 'over', 'under', 'again', 'further', 'then', 'once', 'here', 'there', 'when', 'where', 'why', 'how', 'all', 'any', 'both', 'each', 'few', 'more', 'most', 'other', 'some', 'such', 'no', 'nor', 'not', 'only', 'own', 'same', 'so', 'than', 'too', 'very', 's', 't', 'can', 'will', 'just', 'don', \"don't\", 'should', \"should've\", 'now', 'd', 'll', 'm', 'o', 're', 've', 'y', 'ain', 'aren', \"aren't\", 'couldn', \"couldn't\", 'didn', \"didn't\", 'doesn', \"doesn't\", 'hadn', \"hadn't\", 'hasn', \"hasn't\", 'haven', \"haven't\", 'isn', \"isn't\", 'ma', 'mightn', \"mightn't\", 'mustn', \"mustn't\", 'needn', \"needn't\", 'shan', \"shan't\", 'shouldn', \"shouldn't\", 'wasn', \"wasn't\", 'weren', \"weren't\", 'won', \"won't\", 'wouldn', \"wouldn't\"]\n"
     ]
    }
   ],
   "source": [
    "# In natural language processing, useless words are referred to as stop words. \n",
    "# The python natural language toolkit library provides a list of english stop words.\n",
    "print(stopwords.words('english'))"
   ]
  },
  {
   "cell_type": "code",
   "execution_count": 72,
   "id": "17187d77",
   "metadata": {},
   "outputs": [
    {
     "data": {
      "text/plain": [
       "(8466, 98555)"
      ]
     },
     "execution_count": 72,
     "metadata": {},
     "output_type": "execute_result"
    }
   ],
   "source": [
    "# we use stop_words='english' with CountVectorizer since this just counts the occurrences of each word in its vocabulary, extremely common words like ‘the’, ‘and’, etc. \n",
    "# will become very important features while they add little meaning to the text. This is an important step in pre-processing as our model can often be improved if you don’t take those words into account.\n",
    "# Vectorizing the posts for the model and filtering Stop-words\n",
    "vect = CountVectorizer(stop_words='english') \n",
    "\n",
    "# Converting posts (or training or X feature) into numerical form by count vectorization\n",
    "train =  vect.fit_transform(new_df[\"posts\"])\n",
    "train.shape"
   ]
  },
  {
   "cell_type": "code",
   "execution_count": 73,
   "id": "f56c5ab2",
   "metadata": {},
   "outputs": [
    {
     "data": {
      "text/html": [
       "<div>\n",
       "<style scoped>\n",
       "    .dataframe tbody tr th:only-of-type {\n",
       "        vertical-align: middle;\n",
       "    }\n",
       "\n",
       "    .dataframe tbody tr th {\n",
       "        vertical-align: top;\n",
       "    }\n",
       "\n",
       "    .dataframe thead th {\n",
       "        text-align: right;\n",
       "    }\n",
       "</style>\n",
       "<table border=\"1\" class=\"dataframe\">\n",
       "  <thead>\n",
       "    <tr style=\"text-align: right;\">\n",
       "      <th></th>\n",
       "      <th>type</th>\n",
       "      <th>posts</th>\n",
       "      <th>no. of. words</th>\n",
       "      <th>type of encoding</th>\n",
       "    </tr>\n",
       "  </thead>\n",
       "  <tbody>\n",
       "    <tr>\n",
       "      <th>0</th>\n",
       "      <td>INFJ</td>\n",
       "      <td>enfp  intj moments   sportscenter    plays...</td>\n",
       "      <td>430</td>\n",
       "      <td>8</td>\n",
       "    </tr>\n",
       "    <tr>\n",
       "      <th>1</th>\n",
       "      <td>ENTP</td>\n",
       "      <td>finding  lack    these posts very alarming eo...</td>\n",
       "      <td>803</td>\n",
       "      <td>3</td>\n",
       "    </tr>\n",
       "    <tr>\n",
       "      <th>2</th>\n",
       "      <td>INTP</td>\n",
       "      <td>good         course  which    know thats  bles...</td>\n",
       "      <td>253</td>\n",
       "      <td>11</td>\n",
       "    </tr>\n",
       "    <tr>\n",
       "      <th>3</th>\n",
       "      <td>INTJ</td>\n",
       "      <td>dear intp    enjoyed  conversation  other  eos...</td>\n",
       "      <td>777</td>\n",
       "      <td>10</td>\n",
       "    </tr>\n",
       "    <tr>\n",
       "      <th>4</th>\n",
       "      <td>ENTJ</td>\n",
       "      <td>youre fired eostokendot    thats another silly...</td>\n",
       "      <td>402</td>\n",
       "      <td>2</td>\n",
       "    </tr>\n",
       "  </tbody>\n",
       "</table>\n",
       "</div>"
      ],
      "text/plain": [
       "   type                                              posts  no. of. words  \\\n",
       "0  INFJ      enfp  intj moments   sportscenter    plays...            430   \n",
       "1  ENTP   finding  lack    these posts very alarming eo...            803   \n",
       "2  INTP  good         course  which    know thats  bles...            253   \n",
       "3  INTJ  dear intp    enjoyed  conversation  other  eos...            777   \n",
       "4  ENTJ  youre fired eostokendot    thats another silly...            402   \n",
       "\n",
       "   type of encoding  \n",
       "0                 8  \n",
       "1                 3  \n",
       "2                11  \n",
       "3                10  \n",
       "4                 2  "
      ]
     },
     "execution_count": 73,
     "metadata": {},
     "output_type": "execute_result"
    }
   ],
   "source": [
    "new_df.head()"
   ]
  },
  {
   "cell_type": "markdown",
   "id": "d8066fa0",
   "metadata": {},
   "source": [
    "* So now there are 98555 features in our dataset for 8466 rows (users)"
   ]
  },
  {
   "cell_type": "markdown",
   "id": "15312421",
   "metadata": {},
   "source": [
    "#### Model(s) Building"
   ]
  },
  {
   "cell_type": "code",
   "execution_count": 74,
   "id": "0d2f4ee4",
   "metadata": {},
   "outputs": [
    {
     "name": "stdout",
     "output_type": "stream",
     "text": [
      "(6772, 98555) (6772,) (1694, 98555) (1694,)\n"
     ]
    }
   ],
   "source": [
    "#Splitting into Train & Test Sets , 80-20 split\n",
    "X_train, X_test, y_train, y_test = train_test_split(train, target, test_size=0.2, stratify=target, random_state=42)\n",
    "print ((X_train.shape),(y_train.shape),(X_test.shape),(y_test.shape))"
   ]
  },
  {
   "cell_type": "code",
   "execution_count": 75,
   "id": "631f1093",
   "metadata": {},
   "outputs": [
    {
     "name": "stdout",
     "output_type": "stream",
     "text": [
      "Accuracy: 39.20%\n"
     ]
    }
   ],
   "source": [
    "# Random Forest\n",
    "accuracies = {}\n",
    "random_forest = RandomForestClassifier(n_estimators=100, random_state = 1)\n",
    "random_forest.fit(X_train, y_train)\n",
    "\n",
    "# make predictions for test data\n",
    "Y_pred = random_forest.predict(X_test)\n",
    "predictions = [round(value) for value in Y_pred]\n",
    "\n",
    "# evaluate predictions\n",
    "accuracy = accuracy_score(y_test, predictions)\n",
    "accuracies['Random Forest'] = accuracy* 100.0 \n",
    "print(\"Accuracy: %.2f%%\" % (accuracy * 100.0))"
   ]
  },
  {
   "cell_type": "code",
   "execution_count": 76,
   "id": "d8ff2328",
   "metadata": {},
   "outputs": [
    {
     "name": "stdout",
     "output_type": "stream",
     "text": [
      "Accuracy: 58.15%\n"
     ]
    }
   ],
   "source": [
    "#XG boost Classifier\n",
    "xgb = XGBClassifier()\n",
    "xgb.fit(X_train,y_train)\n",
    "\n",
    "Y_pred = xgb.predict(X_test)\n",
    "predictions = [round(value) for value in Y_pred]\n",
    "\n",
    "# evaluate predictions\n",
    "accuracy = accuracy_score(y_test, predictions)\n",
    "accuracies['XG Boost'] = accuracy* 100.0\n",
    "print(\"Accuracy: %.2f%%\" % (accuracy * 100.0))"
   ]
  },
  {
   "cell_type": "code",
   "execution_count": 77,
   "id": "4ea40b20",
   "metadata": {},
   "outputs": [
    {
     "name": "stdout",
     "output_type": "stream",
     "text": [
      "Accuracy: 57.73%\n"
     ]
    },
    {
     "name": "stderr",
     "output_type": "stream",
     "text": [
      "/Users/rajibsamanta/opt/anaconda3/lib/python3.9/site-packages/sklearn/linear_model/_logistic.py:814: ConvergenceWarning: lbfgs failed to converge (status=1):\n",
      "STOP: TOTAL NO. of ITERATIONS REACHED LIMIT.\n",
      "\n",
      "Increase the number of iterations (max_iter) or scale the data as shown in:\n",
      "    https://scikit-learn.org/stable/modules/preprocessing.html\n",
      "Please also refer to the documentation for alternative solver options:\n",
      "    https://scikit-learn.org/stable/modules/linear_model.html#logistic-regression\n",
      "  n_iter_i = _check_optimize_result(\n"
     ]
    }
   ],
   "source": [
    "# Logistic Regression\n",
    "logreg = LogisticRegression()\n",
    "logreg.fit(X_train, y_train)\n",
    "\n",
    "Y_pred = logreg.predict(X_test)\n",
    "predictions = [round(value) for value in Y_pred]\n",
    "\n",
    "# evaluate predictions\n",
    "accuracy = accuracy_score(y_test, predictions)\n",
    "accuracies['Logistic Regression'] = accuracy* 100.0\n",
    "print(\"Accuracy: %.2f%%\" % (accuracy * 100.0))"
   ]
  },
  {
   "cell_type": "code",
   "execution_count": 78,
   "id": "72bbc384",
   "metadata": {},
   "outputs": [
    {
     "name": "stdout",
     "output_type": "stream",
     "text": [
      "Accuracy: 17.06%\n"
     ]
    },
    {
     "data": {
      "image/png": "[encoded data removed]",
      "text/plain": [
       "<Figure size 432x288 with 1 Axes>"
      ]
     },
     "metadata": {},
     "output_type": "display_data"
    },
    {
     "name": "stdout",
     "output_type": "stream",
     "text": [
      "Maximum KNN Score is 27.21%\n"
     ]
    }
   ],
   "source": [
    "#KNN Classifier\n",
    "from sklearn.neighbors import KNeighborsClassifier\n",
    "knn = KNeighborsClassifier(n_neighbors = 2)  # n_neighbors means k\n",
    "knn.fit(X_train, y_train)\n",
    "\n",
    "Y_pred = knn.predict(X_test)\n",
    "predictions = [round(value) for value in Y_pred]\n",
    "\n",
    "# evaluate predictions\n",
    "accuracy = accuracy_score(y_test, predictions)\n",
    "accuracies['KNN'] = accuracy* 100.0\n",
    "print(\"Accuracy: %.2f%%\" % (accuracy * 100.0))\n",
    "\n",
    "#try to find best k value\n",
    "scoreList = []\n",
    "for i in range(1,20):\n",
    "    knn2 = KNeighborsClassifier(n_neighbors = i)  # n_neighbors means k\n",
    "    knn2.fit(X_train, y_train)\n",
    "    scoreList.append(knn2.score(X_test, y_test))\n",
    "    \n",
    "plt.plot(range(1,20), scoreList)\n",
    "plt.xticks(np.arange(1,20,1))\n",
    "plt.xlabel(\"K value\")\n",
    "plt.ylabel(\"Score\")\n",
    "plt.show()\n",
    "\n",
    "acc = max(scoreList)*100\n",
    "\n",
    "print(\"Maximum KNN Score is {:.2f}%\".format(acc))"
   ]
  },
  {
   "cell_type": "code",
   "execution_count": 79,
   "id": "701e8dcf",
   "metadata": {},
   "outputs": [
    {
     "name": "stdout",
     "output_type": "stream",
     "text": [
      "Accuracy: 27.80%\n"
     ]
    }
   ],
   "source": [
    "#Gradient Descent\n",
    "sgd = SGDClassifier(max_iter=5, tol=None)\n",
    "sgd.fit(X_train, y_train)\n",
    "\n",
    "Y_pred = sgd.predict(X_test)\n",
    "predictions = [round(value) for value in Y_pred]\n",
    "\n",
    "# evaluate predictions\n",
    "accuracy = accuracy_score(y_test, predictions)\n",
    "accuracies['Gradient Descent'] = accuracy* 100.0\n",
    "print(\"Accuracy: %.2f%%\" % (accuracy * 100.0))"
   ]
  },
  {
   "cell_type": "code",
   "execution_count": 80,
   "id": "846a5514",
   "metadata": {},
   "outputs": [
    {
     "name": "stdout",
     "output_type": "stream",
     "text": [
      "Accuracy: 36.48%\n"
     ]
    }
   ],
   "source": [
    "# SVM Model\n",
    "from sklearn.svm import SVC\n",
    "svm = SVC(random_state = 1)\n",
    "svm.fit(X_train, y_train)\n",
    "\n",
    "Y_pred = svm.predict(X_test)\n",
    "\n",
    "predictions = [round(value) for value in Y_pred]\n",
    "# evaluate predictions\n",
    "accuracy = accuracy_score(y_test, predictions)\n",
    "accuracies['SVM'] = accuracy* 100.0\n",
    "print(\"Accuracy: %.2f%%\" % (accuracy * 100.0))"
   ]
  },
  {
   "cell_type": "code",
   "execution_count": 81,
   "id": "19b35596",
   "metadata": {},
   "outputs": [
    {
     "data": {
      "text/html": [
       "<div>\n",
       "<style scoped>\n",
       "    .dataframe tbody tr th:only-of-type {\n",
       "        vertical-align: middle;\n",
       "    }\n",
       "\n",
       "    .dataframe tbody tr th {\n",
       "        vertical-align: top;\n",
       "    }\n",
       "\n",
       "    .dataframe thead th {\n",
       "        text-align: right;\n",
       "    }\n",
       "</style>\n",
       "<table border=\"1\" class=\"dataframe\">\n",
       "  <thead>\n",
       "    <tr style=\"text-align: right;\">\n",
       "      <th></th>\n",
       "      <th>Accuracies(%)</th>\n",
       "    </tr>\n",
       "  </thead>\n",
       "  <tbody>\n",
       "    <tr>\n",
       "      <th>Random Forest</th>\n",
       "      <td>39.197166</td>\n",
       "    </tr>\n",
       "    <tr>\n",
       "      <th>XG Boost</th>\n",
       "      <td>58.146399</td>\n",
       "    </tr>\n",
       "    <tr>\n",
       "      <th>Logistic Regression</th>\n",
       "      <td>57.733176</td>\n",
       "    </tr>\n",
       "    <tr>\n",
       "      <th>KNN</th>\n",
       "      <td>17.060213</td>\n",
       "    </tr>\n",
       "    <tr>\n",
       "      <th>Gradient Descent</th>\n",
       "      <td>27.804014</td>\n",
       "    </tr>\n",
       "    <tr>\n",
       "      <th>SVM</th>\n",
       "      <td>36.481700</td>\n",
       "    </tr>\n",
       "  </tbody>\n",
       "</table>\n",
       "</div>"
      ],
      "text/plain": [
       "                     Accuracies(%)\n",
       "Random Forest            39.197166\n",
       "XG Boost                 58.146399\n",
       "Logistic Regression      57.733176\n",
       "KNN                      17.060213\n",
       "Gradient Descent         27.804014\n",
       "SVM                      36.481700"
      ]
     },
     "execution_count": 81,
     "metadata": {},
     "output_type": "execute_result"
    }
   ],
   "source": [
    "#### Comparing Algorithms\n",
    "pd.DataFrame.from_dict(accuracies, orient='index', columns=['Accuracies(%)'])"
   ]
  },
  {
   "cell_type": "code",
   "execution_count": 50,
   "id": "a2022676",
   "metadata": {},
   "outputs": [
    {
     "data": {
      "image/png": "[encoded data removed]",
      "text/plain": [
       "<Figure size 1152x360 with 1 Axes>"
      ]
     },
     "metadata": {},
     "output_type": "display_data"
    }
   ],
   "source": [
    "# Bar plot\n",
    "sns.set_style(\"whitegrid\")\n",
    "plt.figure(figsize=(16,5))\n",
    "plt.yticks(np.arange(0,100,10))\n",
    "plt.ylabel(\"Accuracy %\")\n",
    "plt.xlabel(\"Algorithms\")\n",
    "sns.barplot(x=list(accuracies.keys()), y=list(accuracies.values()))\n",
    "plt.show()"
   ]
  },
  {
   "cell_type": "markdown",
   "id": "78f9b9aa",
   "metadata": {},
   "source": [
    "* After comparing all the ML models, Logistic Regression model has highest accuracy 57.925072. So will consider this model as Personality Predictor."
   ]
  },
  {
   "cell_type": "code",
   "execution_count": null,
   "id": "a646b058",
   "metadata": {},
   "outputs": [],
   "source": []
  }
 ],
 "metadata": {
  "kernelspec": {
   "display_name": "Python 3 (ipykernel)",
   "language": "python",
   "name": "python3"
  },
  "language_info": {
   "codemirror_mode": {
    "name": "ipython",
    "version": 3
   },
   "file_extension": ".py",
   "mimetype": "text/x-python",
   "name": "python",
   "nbconvert_exporter": "python",
   "pygments_lexer": "ipython3",
   "version": "3.9.12"
  }
 },
 "nbformat": 4,
 "nbformat_minor": 5
}
