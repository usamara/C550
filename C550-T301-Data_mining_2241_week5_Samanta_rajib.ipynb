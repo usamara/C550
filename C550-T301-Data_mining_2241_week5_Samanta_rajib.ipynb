{
 "cells": [
  {
   "cell_type": "markdown",
   "id": "e17241dd",
   "metadata": {},
   "source": [
    "## Class : C550-T301 Data Mining (2241-1)\n",
    "## Name : Rajib Samanta\n",
    "### Assignment : Week 5\n",
    "\n",
    "Download the labeled training dataset from this link: Bag of Words Meets Bags of Popcorn. \n",
    "    https://www.kaggle.com/competitions/word2vec-nlp-tutorial/data\n",
    "    \n",
    "1. Get the stemmed data using the same process you did in Week 3.\n",
    "2. Split this into a training and test set.\n",
    "3. Fit and apply the tf-idf vectorization to the training set.\n",
    "4. Apply but DO NOT FIT the tf-idf vectorization to the test set (Why?).\n",
    "5. Train a logistic regression using the training data.\n",
    "6. Find the model accuracy on test set.\n",
    "7. Create a confusion matrix for the test set predictions.\n",
    "8. Get the precision, recall, and F1-score for the test set predictions.\n",
    "9. Create a ROC curve for the test set.\n",
    "10. Pick another classification model you learned about this week and repeat steps (5) – (9)."
   ]
  },
  {
   "cell_type": "code",
   "execution_count": 31,
   "id": "eef1fede",
   "metadata": {},
   "outputs": [],
   "source": [
    "# Import Libraries\n",
    "import pandas as pd\n",
    "import os\n",
    "#pip install textblob\n",
    "from textblob import TextBlob\n",
    "# pip install vaderSentiment\n",
    "from vaderSentiment.vaderSentiment import SentimentIntensityAnalyzer\n",
    "import re\n",
    "# pip install nltk\n",
    "import nltk\n",
    "from nltk.corpus import stopwords\n",
    "from nltk.stem import PorterStemmer\n",
    "from sklearn.model_selection import train_test_split\n",
    "from sklearn.feature_extraction.text import CountVectorizer\n",
    "from sklearn.feature_extraction.text import TfidfVectorizer\n",
    "from sklearn.linear_model import LogisticRegression\n",
    "from sklearn.metrics import accuracy_score\n",
    "from sklearn.metrics import accuracy_score, confusion_matrix\n",
    "import matplotlib.pyplot as plt\n",
    "import seaborn as sns\n",
    "from sklearn.metrics import classification_report\n",
    "from sklearn.metrics import roc_curve, roc_auc_score\n",
    "from sklearn.svm import SVC"
   ]
  },
  {
   "cell_type": "code",
   "execution_count": 6,
   "id": "89ab466d",
   "metadata": {},
   "outputs": [
    {
     "name": "stdout",
     "output_type": "stream",
     "text": [
      "/Users/rajibsamanta/Documents/Rajib/College/Sem6_fall_2023/Week5\n"
     ]
    },
    {
     "data": {
      "text/html": [
       "<div>\n",
       "<style scoped>\n",
       "    .dataframe tbody tr th:only-of-type {\n",
       "        vertical-align: middle;\n",
       "    }\n",
       "\n",
       "    .dataframe tbody tr th {\n",
       "        vertical-align: top;\n",
       "    }\n",
       "\n",
       "    .dataframe thead th {\n",
       "        text-align: right;\n",
       "    }\n",
       "</style>\n",
       "<table border=\"1\" class=\"dataframe\">\n",
       "  <thead>\n",
       "    <tr style=\"text-align: right;\">\n",
       "      <th></th>\n",
       "      <th>id</th>\n",
       "      <th>sentiment</th>\n",
       "      <th>review</th>\n",
       "    </tr>\n",
       "  </thead>\n",
       "  <tbody>\n",
       "    <tr>\n",
       "      <th>0</th>\n",
       "      <td>\"5814_8\"</td>\n",
       "      <td>1</td>\n",
       "      <td>\"With all this stuff going down at the moment ...</td>\n",
       "    </tr>\n",
       "    <tr>\n",
       "      <th>1</th>\n",
       "      <td>\"2381_9\"</td>\n",
       "      <td>1</td>\n",
       "      <td>\"\\\"The Classic War of the Worlds\\\" by Timothy ...</td>\n",
       "    </tr>\n",
       "    <tr>\n",
       "      <th>2</th>\n",
       "      <td>\"7759_3\"</td>\n",
       "      <td>0</td>\n",
       "      <td>\"The film starts with a manager (Nicholas Bell...</td>\n",
       "    </tr>\n",
       "    <tr>\n",
       "      <th>3</th>\n",
       "      <td>\"3630_4\"</td>\n",
       "      <td>0</td>\n",
       "      <td>\"It must be assumed that those who praised thi...</td>\n",
       "    </tr>\n",
       "    <tr>\n",
       "      <th>4</th>\n",
       "      <td>\"9495_8\"</td>\n",
       "      <td>1</td>\n",
       "      <td>\"Superbly trashy and wondrously unpretentious ...</td>\n",
       "    </tr>\n",
       "  </tbody>\n",
       "</table>\n",
       "</div>"
      ],
      "text/plain": [
       "         id  sentiment                                             review\n",
       "0  \"5814_8\"          1  \"With all this stuff going down at the moment ...\n",
       "1  \"2381_9\"          1  \"\\\"The Classic War of the Worlds\\\" by Timothy ...\n",
       "2  \"7759_3\"          0  \"The film starts with a manager (Nicholas Bell...\n",
       "3  \"3630_4\"          0  \"It must be assumed that those who praised thi...\n",
       "4  \"9495_8\"          1  \"Superbly trashy and wondrously unpretentious ..."
      ]
     },
     "execution_count": 6,
     "metadata": {},
     "output_type": "execute_result"
    }
   ],
   "source": [
    "# Read the labeled training dataset  file ('labeledTrainData.tsv') from local:\n",
    "directory = '/Users/rajibsamanta/Documents/Rajib/College/Sem6_fall_2023/Week5' \n",
    "# Set the working directory\n",
    "os.chdir(directory)\n",
    "print(os.getcwd())\n",
    "# 1. Import the movie review data as a data frame and ensure that the data is loaded properly.\n",
    "\n",
    "file_name = \"labeledTrainData.tsv\"\n",
    "\n",
    "# Load the dataset into a pandas DataFrame\n",
    "df = pd.read_csv(file_name, delimiter='\\t', quoting=3)\n",
    "\n",
    "# Display few records.\n",
    "df.head()"
   ]
  },
  {
   "cell_type": "code",
   "execution_count": 7,
   "id": "33b90631",
   "metadata": {},
   "outputs": [
    {
     "name": "stdout",
     "output_type": "stream",
     "text": [
      "                                              review\n",
      "0  \"with all this stuff going down at the moment ...\n",
      "1  \"\\\"the classic war of the worlds\\\" by timothy ...\n",
      "2  \"the film starts with a manager (nicholas bell...\n",
      "3  \"it must be assumed that those who praised thi...\n",
      "4  \"superbly trashy and wondrously unpretentious ...\n"
     ]
    }
   ],
   "source": [
    "# Convert the 'review' column to lowercase\n",
    "df['review'] = df['review'].str.lower()\n",
    "\n",
    "# Print the first few rows of the DataFrame to verify the conversion\n",
    "print(df[['review']].head())"
   ]
  },
  {
   "cell_type": "code",
   "execution_count": 8,
   "id": "88fb3928",
   "metadata": {},
   "outputs": [
    {
     "name": "stdout",
     "output_type": "stream",
     "text": [
      "         id  sentiment                                             review\n",
      "0  \"5814_8\"          1  with all this stuff going down at the moment w...\n",
      "1  \"2381_9\"          1  the classic war of the worlds by timothy hines...\n",
      "2  \"7759_3\"          0  the film starts with a manager nicholas bell g...\n",
      "3  \"3630_4\"          0  it must be assumed that those who praised this...\n",
      "4  \"9495_8\"          1  superbly trashy and wondrously unpretentious 8...\n"
     ]
    }
   ],
   "source": [
    "# Function to remove punctuation and special characters\n",
    "\n",
    "\n",
    "def remove_punctuation(text):\n",
    "    # Define a regular expression pattern to match non-alphanumeric characters\n",
    "    pattern = r'[^a-zA-Z0-9\\s]'\n",
    "    \n",
    "    # Use the re.sub() function to replace matched characters with an empty string\n",
    "    return re.sub(pattern, '', text)\n",
    "\n",
    "# Apply the remove_punctuation function to the 'review' column\n",
    "df['review'] = df['review'].apply(remove_punctuation)\n",
    "\n",
    "# Print the first few rows of the DataFrame to verify the removal of punctuation\n",
    "print(df.head())"
   ]
  },
  {
   "cell_type": "code",
   "execution_count": 10,
   "id": "532f4d93",
   "metadata": {},
   "outputs": [
    {
     "name": "stderr",
     "output_type": "stream",
     "text": [
      "[nltk_data] Downloading package stopwords to\n",
      "[nltk_data]     /Users/rajibsamanta/nltk_data...\n",
      "[nltk_data]   Package stopwords is already up-to-date!\n"
     ]
    },
    {
     "name": "stdout",
     "output_type": "stream",
     "text": [
      "         id  sentiment                                             review\n",
      "0  \"5814_8\"          1  stuff going moment mj ive started listening mu...\n",
      "1  \"2381_9\"          1  classic war worlds timothy hines entertaining ...\n",
      "2  \"7759_3\"          0  film starts manager nicholas bell giving welco...\n",
      "3  \"3630_4\"          0  must assumed praised film greatest filmed oper...\n",
      "4  \"9495_8\"          1  superbly trashy wondrously unpretentious 80s e...\n"
     ]
    }
   ],
   "source": [
    "# Remove stop words.\n",
    "# Download NLTK stop words\n",
    "nltk.download('stopwords')\n",
    "# Function to remove stop words\n",
    "def remove_stopwords(text):\n",
    "    # Tokenize the text into words\n",
    "    words = text.split()\n",
    "    \n",
    "    # Remove stop words\n",
    "    stop_words = set(stopwords.words(\"english\"))\n",
    "\n",
    "    filtered_words = [word for word in words if word.lower() not in stop_words]\n",
    "    \n",
    "    # Join the filtered words back into a single string\n",
    "    return \" \".join(filtered_words)\n",
    "\n",
    "#print(stop_words)\n",
    "# Apply the remove_stopwords function to the 'review' column\n",
    "df['review'] = df['review'].apply(remove_stopwords)\n",
    "\n",
    "# Print the first few rows of the DataFrame to verify the removal of stop words\n",
    "print(df.head())"
   ]
  },
  {
   "cell_type": "code",
   "execution_count": 11,
   "id": "e6cfc29c",
   "metadata": {},
   "outputs": [
    {
     "name": "stderr",
     "output_type": "stream",
     "text": [
      "[nltk_data] Downloading package stopwords to\n",
      "[nltk_data]     /Users/rajibsamanta/nltk_data...\n",
      "[nltk_data]   Package stopwords is already up-to-date!\n"
     ]
    },
    {
     "name": "stdout",
     "output_type": "stream",
     "text": [
      "         id  sentiment                                             review\n",
      "0  \"5814_8\"          1  stuff go moment mj ive start listen music watc...\n",
      "1  \"2381_9\"          1  classic war world timothi hine entertain film ...\n",
      "2  \"7759_3\"          0  film start manag nichola bell give welcom inve...\n",
      "3  \"3630_4\"          0  must assum prais film greatest film opera ever...\n",
      "4  \"9495_8\"          1  superbl trashi wondrous unpretenti 80 exploit ...\n"
     ]
    }
   ],
   "source": [
    "# Apply NLTK’s PorterStemmer.\n",
    "\n",
    "# Download NLTK stop words and initialize the Porter Stemmer\n",
    "nltk.download('stopwords')\n",
    "stemmer = PorterStemmer()\n",
    "\n",
    "\n",
    "# Function to remove punctuation, remove stop words, and apply stemming\n",
    "def preprocess_and_stem(text):\n",
    "    # Remove punctuation\n",
    "    text = re.sub(r'[^a-zA-Z0-9\\s]', '', text)\n",
    "    \n",
    "    # Tokenize the text into words\n",
    "    words = text.split()\n",
    "    \n",
    "    # Remove stop words\n",
    "    stop_words = set(stopwords.words(\"english\"))\n",
    "    filtered_words = [word for word in words if word.lower() not in stop_words]\n",
    "    \n",
    "    # Apply stemming using the Porter Stemmer\n",
    "    stemmed_words = [stemmer.stem(word) for word in filtered_words]\n",
    "    \n",
    "    # Join the stemmed words back into a single string\n",
    "    return \" \".join(stemmed_words)\n",
    "\n",
    "# Apply the preprocess_and_stem function to the 'review' column\n",
    "df['review'] = df['review'].apply(preprocess_and_stem)\n",
    "\n",
    "# Print the first few rows of the DataFrame to verify the preprocessing and stemming\n",
    "print(df.head())"
   ]
  },
  {
   "cell_type": "code",
   "execution_count": 12,
   "id": "d02a9e21",
   "metadata": {},
   "outputs": [
    {
     "name": "stdout",
     "output_type": "stream",
     "text": [
      "<class 'pandas.core.frame.DataFrame'>\n",
      "RangeIndex: 25000 entries, 0 to 24999\n",
      "Data columns (total 3 columns):\n",
      " #   Column     Non-Null Count  Dtype \n",
      "---  ------     --------------  ----- \n",
      " 0   id         25000 non-null  object\n",
      " 1   sentiment  25000 non-null  int64 \n",
      " 2   review     25000 non-null  object\n",
      "dtypes: int64(1), object(2)\n",
      "memory usage: 586.1+ KB\n"
     ]
    }
   ],
   "source": [
    "# describe dataframe info\n",
    "df.info()"
   ]
  },
  {
   "cell_type": "code",
   "execution_count": 13,
   "id": "ac8585af",
   "metadata": {},
   "outputs": [
    {
     "name": "stdout",
     "output_type": "stream",
     "text": [
      "Training set shape (X_train, y_train): (20000,) (20000,)\n",
      "Test set shape (X_test, y_test): (5000,) (5000,)\n"
     ]
    }
   ],
   "source": [
    "# 2. Split this into a training and test set.\n",
    "\n",
    "\n",
    "# Load your dataset into a pandas DataFrame\n",
    "\n",
    "# Define the features (X) and the target (y)\n",
    "X = df['review']  # Feature: the 'review' column\n",
    "y = df['sentiment']  # Target: the 'sentiment' column\n",
    "\n",
    "# Split the dataset into a training set and a test set (e.g., 80% train, 20% test)\n",
    "X_train, X_test, y_train, y_test = train_test_split(X, y, test_size=0.2, random_state=42)\n",
    "\n",
    "# Print the shapes of the training and test sets to verify the split\n",
    "print(\"Training set shape (X_train, y_train):\", X_train.shape, y_train.shape)\n",
    "print(\"Test set shape (X_test, y_test):\", X_test.shape, y_test.shape)"
   ]
  },
  {
   "cell_type": "code",
   "execution_count": 16,
   "id": "826e6db8",
   "metadata": {},
   "outputs": [
    {
     "name": "stdout",
     "output_type": "stream",
     "text": [
      "TF-IDF Matrix (Training Set) Shape: (20000, 80683)\n",
      "TF-IDF Matrix (Test Set) Shape: (5000, 80683)\n"
     ]
    }
   ],
   "source": [
    "# 3. Fit and apply the tf-idf vectorization to the training set.\n",
    "\n",
    "# Initialize the TF-IDF vectorizer\n",
    "tfidf_vectorizer = TfidfVectorizer()\n",
    "\n",
    "# Fit and transform the TF-IDF vectorizer on the training data\n",
    "X_train_tfidf = tfidf_vectorizer.fit_transform(X_train)\n",
    "\n",
    "# Apply the same TF-IDF vectorizer to the test data\n",
    "#--> Applying it to the test data using transform ensures that the TF-IDF representation of the test data is consistent\n",
    "X_test_tfidf = tfidf_vectorizer.transform(X_test)\n",
    "\n",
    "# Print the shapes of the TF-IDF matrices for training and test sets\n",
    "print(\"TF-IDF Matrix (Training Set) Shape:\", X_train_tfidf.shape)\n",
    "print(\"TF-IDF Matrix (Test Set) Shape:\", X_test_tfidf.shape)"
   ]
  },
  {
   "cell_type": "markdown",
   "id": "09dbf409",
   "metadata": {},
   "source": [
    "##### 4. Apply but DO NOT FIT the tf-idf vectorization to the test set (Why?).\n",
    "* When applying TF-IDF vectorization to the test set, we should not fit the vectorizer again.The purpose of using the same vectorizer that was fit on the training set is to maintain consistency between the two sets. By applying the same vectorizer to both sets, we ensure that the features (words or terms) and their corresponding TF-IDF values are consistent between the training and test sets."
   ]
  },
  {
   "cell_type": "code",
   "execution_count": 19,
   "id": "85808091",
   "metadata": {},
   "outputs": [
    {
     "data": {
      "text/plain": [
       "LogisticRegression()"
      ]
     },
     "execution_count": 19,
     "metadata": {},
     "output_type": "execute_result"
    }
   ],
   "source": [
    "# 5. Train a logistic regression using the training data.\n",
    "# Initialize the Logistic Regression model\n",
    "logistic_regression_model = LogisticRegression()\n",
    "# Train the Logistic Regression model on the training data\n",
    "logistic_regression_model.fit(X_train_tfidf, y_train)\n"
   ]
  },
  {
   "cell_type": "code",
   "execution_count": 20,
   "id": "a5992f3c",
   "metadata": {},
   "outputs": [
    {
     "name": "stdout",
     "output_type": "stream",
     "text": [
      "Accuracy: 0.8872\n"
     ]
    }
   ],
   "source": [
    "# 6. Find the model accuracy on test set.\n",
    "# Predict sentiment on the test data\n",
    "y_pred = logistic_regression_model.predict(X_test_tfidf)\n",
    "\n",
    "# Calculate and print the accuracy of the model on the test set\n",
    "accuracy = accuracy_score(y_test, y_pred)\n",
    "print(\"Accuracy:\", accuracy)"
   ]
  },
  {
   "attachments": {},
   "cell_type": "markdown",
   "id": "e45e81b9",
   "metadata": {},
   "source": [
    "* Accuracy Score is 0.8872 close to 1 , its means regression model is significant."
   ]
  },
  {
   "cell_type": "code",
   "execution_count": 23,
   "id": "9b04a9cb",
   "metadata": {},
   "outputs": [
    {
     "data": {
      "image/png": "[encoded data removed]",
      "text/plain": [
       "<Figure size 576x432 with 1 Axes>"
      ]
     },
     "metadata": {
      "needs_background": "light"
     },
     "output_type": "display_data"
    }
   ],
   "source": [
    "# 7. Create a confusion matrix for the test set predictions.\n",
    "# Create a confusion matrix\n",
    "conf_matrix = confusion_matrix(y_test, y_pred)\n",
    "\n",
    "# Plot the confusion matrix using seaborn\n",
    "plt.figure(figsize=(8, 6))\n",
    "sns.heatmap(conf_matrix, annot=True, fmt=\"d\", cmap=\"Blues\", cbar=False,\n",
    "            xticklabels=['Negative', 'Positive'], yticklabels=['Negative', 'Positive'])\n",
    "plt.xlabel('Predicted')\n",
    "plt.ylabel('True')\n",
    "plt.title('Confusion Matrix')\n",
    "plt.show()"
   ]
  },
  {
   "cell_type": "code",
   "execution_count": 26,
   "id": "501ee4ae",
   "metadata": {},
   "outputs": [
    {
     "name": "stdout",
     "output_type": "stream",
     "text": [
      "Classification Report:\n",
      "               precision    recall  f1-score   support\n",
      "\n",
      "    Negative       0.90      0.87      0.88      2481\n",
      "    Positive       0.88      0.90      0.89      2519\n",
      "\n",
      "    accuracy                           0.89      5000\n",
      "   macro avg       0.89      0.89      0.89      5000\n",
      "weighted avg       0.89      0.89      0.89      5000\n",
      "\n"
     ]
    }
   ],
   "source": [
    "# 8. Get the precision, recall, and F1-score for the test set predictions.\n",
    "# Calculate precision, recall, and F1-score and print the classification report\n",
    "classification_rep = classification_report(y_test, y_pred, target_names=['Negative', 'Positive'])\n",
    "print(\"Classification Report:\\n\", classification_rep)"
   ]
  },
  {
   "cell_type": "code",
   "execution_count": 30,
   "id": "ea4b9808",
   "metadata": {},
   "outputs": [
    {
     "data": {
      "image/png": "[encoded data removed]",
      "text/plain": [
       "<Figure size 576x432 with 1 Axes>"
      ]
     },
     "metadata": {
      "needs_background": "light"
     },
     "output_type": "display_data"
    }
   ],
   "source": [
    "9. Create a ROC curve for the test set.\n",
    "# Predict probabilities of positive class for the test data\n",
    "y_prob = logistic_regression_model.predict_proba(X_test_tfidf)[:, 1]\n",
    "# Calculate ROC curve values\n",
    "\n",
    "fpr, tpr, thresholds = roc_curve(y_test, y_prob)\n",
    "\n",
    "# Calculate the AUC (Area Under the Curve)\n",
    "roc_auc = roc_auc_score(y_test, y_prob)\n",
    "\n",
    "# Plot the ROC curve\n",
    "plt.figure(figsize=(8, 6))\n",
    "plt.plot(fpr, tpr, color='blue', lw=2, label='ROC Curve (AUC = {:.2f})'.format(roc_auc))\n",
    "plt.plot([0, 1], [0, 1], color='gray', linestyle='--')\n",
    "plt.xlim([0.0, 1.0])\n",
    "plt.ylim([0.0, 1.05])\n",
    "plt.xlabel('False Positive Rate (FPR)')\n",
    "plt.ylabel('True Positive Rate (TPR)')\n",
    "plt.title('Receiver Operating Characteristic (ROC) Curve')\n",
    "plt.legend(loc='lower right')\n",
    "plt.show()"
   ]
  },
  {
   "cell_type": "code",
   "execution_count": 32,
   "id": "d6fe038a",
   "metadata": {},
   "outputs": [
    {
     "name": "stdout",
     "output_type": "stream",
     "text": [
      "Accuracy: 0.8896\n",
      "Classification Report:\n",
      "               precision    recall  f1-score   support\n",
      "\n",
      "    Negative       0.90      0.88      0.89      2481\n",
      "    Positive       0.88      0.90      0.89      2519\n",
      "\n",
      "    accuracy                           0.89      5000\n",
      "   macro avg       0.89      0.89      0.89      5000\n",
      "weighted avg       0.89      0.89      0.89      5000\n",
      "\n"
     ]
    }
   ],
   "source": [
    "# 10. Pick another classification model you learned about this week and repeat steps (5) – (9).\n",
    "\n",
    "##--> Use a Support Vector Machine (SVM) classifier for sentiment analysis on the same dataset and repeat steps (5) to (9) using the SVM classifier.\n",
    "# Initialize the SVM Classifier model\n",
    "svm_model = SVC(kernel='linear', random_state=42)\n",
    "\n",
    "# Train the SVM Classifier model on the training data\n",
    "svm_model.fit(X_train_tfidf, y_train)\n",
    "\n",
    "# Predict sentiment on the test data\n",
    "y_pred = svm_model.predict(X_test_tfidf)\n",
    "# Calculate accuracy\n",
    "accuracy = accuracy_score(y_test, y_pred)\n",
    "print(\"Accuracy:\", accuracy)\n",
    "\n",
    "# Calculate and print precision, recall, and F1-score\n",
    "classification_rep = classification_report(y_test, y_pred, target_names=['Negative', 'Positive'])\n",
    "print(\"Classification Report:\\n\", classification_rep)\n"
   ]
  },
  {
   "cell_type": "code",
   "execution_count": 34,
   "id": "f9bee133",
   "metadata": {},
   "outputs": [
    {
     "data": {
      "image/png": "[encoded data removed]",
      "text/plain": [
       "<Figure size 576x432 with 1 Axes>"
      ]
     },
     "metadata": {
      "needs_background": "light"
     },
     "output_type": "display_data"
    }
   ],
   "source": [
    "# Create a ROC curve for the test set.\n",
    "# Predict the decision function for the test data\n",
    "decision_function = svm_model.decision_function(X_test_tfidf)\n",
    "\n",
    "# Calculate ROC curve values\n",
    "fpr, tpr, thresholds = roc_curve(y_test, decision_function)\n",
    "\n",
    "# Calculate the AUC (Area Under the Curve)\n",
    "roc_auc = roc_auc_score(y_test, decision_function)\n",
    "\n",
    "# Plot the ROC curve\n",
    "plt.figure(figsize=(8, 6))\n",
    "plt.plot(fpr, tpr, color='blue', lw=2, label='ROC Curve (AUC = {:.2f})'.format(roc_auc))\n",
    "plt.plot([0, 1], [0, 1], color='gray', linestyle='--')\n",
    "plt.xlim([0.0, 1.0])\n",
    "plt.ylim([0.0, 1.05])\n",
    "plt.xlabel('False Positive Rate (FPR)')\n",
    "plt.ylabel('True Positive Rate (TPR)')\n",
    "plt.title('Receiver Operating Characteristic (ROC) Curve (SVM)')\n",
    "plt.legend(loc='lower right')\n",
    "plt.show()"
   ]
  },
  {
   "cell_type": "code",
   "execution_count": null,
   "id": "a69832bb",
   "metadata": {},
   "outputs": [],
   "source": []
  }
 ],
 "metadata": {
  "kernelspec": {
   "display_name": "Python 3 (ipykernel)",
   "language": "python",
   "name": "python3"
  },
  "language_info": {
   "codemirror_mode": {
    "name": "ipython",
    "version": 3
   },
   "file_extension": ".py",
   "mimetype": "text/x-python",
   "name": "python",
   "nbconvert_exporter": "python",
   "pygments_lexer": "ipython3",
   "version": "3.9.12"
  }
 },
 "nbformat": 4,
 "nbformat_minor": 5
}
