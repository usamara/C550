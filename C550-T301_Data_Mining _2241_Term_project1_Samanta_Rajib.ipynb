{
 "cells": [
  {
   "attachments": {},
   "cell_type": "markdown",
   "id": "4a480b43",
   "metadata": {},
   "source": [
    "## Class : C550-T301 Data Mining (2241-1)\n",
    "## Name : Rajib Samanta\n",
    "### Assignment : Week 6\n",
    "### Term Project Milestone 1: Data Selection and EDA\n",
    "### Topic : Personality Prediction\n",
    "\n",
    "#### Data Source : https://www.kaggle.com/datasets/datasnaek/mbti-type/data\n",
    "\n",
    "#### About Data File :\n",
    "   The Myers–Briggs Type Indicator (MBTI) is a kind of psychological classification about human’s experience. \n",
    "     using four principal psychological functions, sensation, intuition, feeling, and thinking, \n",
    "        constructed by Katharine Cook Briggs and her daughter Isabel Briggs Myers.\n",
    "   The Myers Briggs Type Indicator (or MBTI for short) is a personality type system that divides everyone. \n",
    "        into 16 distinct personality types across 4 axes:\n",
    "        \n",
    "            * Introversion (I) – Extroversion (E)\n",
    "            * Intuition (N) – Sensing (S)\n",
    "            * Thinking (T) – Feeling (F)\n",
    "            * Judging (J) – Perceiving (P)\n",
    "            "
   ]
  },
  {
   "attachments": {},
   "cell_type": "markdown",
   "id": "a0664db2",
   "metadata": {},
   "source": [
    "### Overview\n",
    "  Organization needs to classify the individuals based on their personality traits. The availability of high dimensional and large amount of date has paved the way for increasing the effectiveness of marketing campaigns by targeting specific people. This will increase the popularity and attractiveness of products and services. Some common examples:\n",
    "  1. Personalizing the online advertisement campaigns.\n",
    "  2. Incorporate a personality-based approach to increase the attractiveness of recommended products.\n",
    "  3. Personality based adaptations can also provide personalized visualization and better music recommendations.\n",
    "  \n",
    "  * In this project we will use machine learning to evaluate the MBTIs validity and ability to predict language styles and behaviour online."
   ]
  },
  {
   "cell_type": "code",
   "execution_count": 45,
   "id": "0890ed30",
   "metadata": {},
   "outputs": [],
   "source": [
    "# Import Libraries\n",
    "# Import Libraries\n",
    "import pandas as pd\n",
    "import os\n",
    "import numpy as np\n",
    "#pip install textblob\n",
    "from textblob import TextBlob\n",
    "# pip install vaderSentiment\n",
    "from vaderSentiment.vaderSentiment import SentimentIntensityAnalyzer\n",
    "import re\n",
    "# pip install nltk\n",
    "import nltk\n",
    "from nltk.corpus import stopwords\n",
    "import wordcloud\n",
    "from wordcloud import WordCloud, STOPWORDS\n",
    "import collections\n",
    "from collections import Counter\n",
    "from nltk.stem import PorterStemmer\n",
    "from sklearn.model_selection import train_test_split\n",
    "from sklearn.feature_extraction.text import CountVectorizer\n",
    "from sklearn.feature_extraction.text import TfidfVectorizer\n",
    "from sklearn.linear_model import LogisticRegression\n",
    "from sklearn.metrics import accuracy_score\n",
    "from sklearn.metrics import accuracy_score, confusion_matrix\n",
    "import matplotlib.pyplot as plt\n",
    "import seaborn as sns\n",
    "from sklearn.metrics import classification_report\n",
    "from sklearn.metrics import roc_curve, roc_auc_score\n",
    "from sklearn.svm import SVC"
   ]
  },
  {
   "cell_type": "code",
   "execution_count": 46,
   "id": "01241f97",
   "metadata": {},
   "outputs": [
    {
     "name": "stdout",
     "output_type": "stream",
     "text": [
      "/Users/rajibsamanta/Documents/Rajib/College/Sem6_fall_2023/Week6\n"
     ]
    },
    {
     "data": {
      "text/html": [
       "<div>\n",
       "<style scoped>\n",
       "    .dataframe tbody tr th:only-of-type {\n",
       "        vertical-align: middle;\n",
       "    }\n",
       "\n",
       "    .dataframe tbody tr th {\n",
       "        vertical-align: top;\n",
       "    }\n",
       "\n",
       "    .dataframe thead th {\n",
       "        text-align: right;\n",
       "    }\n",
       "</style>\n",
       "<table border=\"1\" class=\"dataframe\">\n",
       "  <thead>\n",
       "    <tr style=\"text-align: right;\">\n",
       "      <th></th>\n",
       "      <th>type</th>\n",
       "      <th>posts</th>\n",
       "    </tr>\n",
       "  </thead>\n",
       "  <tbody>\n",
       "    <tr>\n",
       "      <th>0</th>\n",
       "      <td>INFJ</td>\n",
       "      <td>'http://www.youtube.com/watch?v=qsXHcwe3krw|||...</td>\n",
       "    </tr>\n",
       "    <tr>\n",
       "      <th>1</th>\n",
       "      <td>ENTP</td>\n",
       "      <td>'I'm finding the lack of me in these posts ver...</td>\n",
       "    </tr>\n",
       "    <tr>\n",
       "      <th>2</th>\n",
       "      <td>INTP</td>\n",
       "      <td>'Good one  _____   https://www.youtube.com/wat...</td>\n",
       "    </tr>\n",
       "    <tr>\n",
       "      <th>3</th>\n",
       "      <td>INTJ</td>\n",
       "      <td>'Dear INTP,   I enjoyed our conversation the o...</td>\n",
       "    </tr>\n",
       "    <tr>\n",
       "      <th>4</th>\n",
       "      <td>ENTJ</td>\n",
       "      <td>'You're fired.|||That's another silly misconce...</td>\n",
       "    </tr>\n",
       "  </tbody>\n",
       "</table>\n",
       "</div>"
      ],
      "text/plain": [
       "   type                                              posts\n",
       "0  INFJ  'http://www.youtube.com/watch?v=qsXHcwe3krw|||...\n",
       "1  ENTP  'I'm finding the lack of me in these posts ver...\n",
       "2  INTP  'Good one  _____   https://www.youtube.com/wat...\n",
       "3  INTJ  'Dear INTP,   I enjoyed our conversation the o...\n",
       "4  ENTJ  'You're fired.|||That's another silly misconce..."
      ]
     },
     "execution_count": 46,
     "metadata": {},
     "output_type": "execute_result"
    }
   ],
   "source": [
    "# Read the  dataset  file ('mbti_1.csv') from local:\n",
    "directory = '/Users/rajibsamanta/Documents/Rajib/College/Sem6_fall_2023/Week6' \n",
    "# Set the working directory\n",
    "os.chdir(directory)\n",
    "print(os.getcwd())\n",
    "# 1. Import the movie review data as a data frame and ensure that the data is loaded properly.\n",
    "\n",
    "file_name = \"mbti_1.csv\"\n",
    "\n",
    "# Load the dataset into a pandas DataFrame\n",
    "df = pd.read_csv(file_name, delimiter=',')\n",
    "\n",
    "# Display few records.\n",
    "df.head()"
   ]
  },
  {
   "cell_type": "code",
   "execution_count": 47,
   "id": "7dc50518",
   "metadata": {},
   "outputs": [
    {
     "name": "stdout",
     "output_type": "stream",
     "text": [
      "<class 'pandas.core.frame.DataFrame'>\n",
      "RangeIndex: 8675 entries, 0 to 8674\n",
      "Data columns (total 2 columns):\n",
      " #   Column  Non-Null Count  Dtype \n",
      "---  ------  --------------  ----- \n",
      " 0   type    8675 non-null   object\n",
      " 1   posts   8675 non-null   object\n",
      "dtypes: object(2)\n",
      "memory usage: 135.7+ KB\n"
     ]
    }
   ],
   "source": [
    "# Describe the data \n",
    "df.info()"
   ]
  },
  {
   "cell_type": "markdown",
   "id": "7e33d1de",
   "metadata": {},
   "source": [
    "    There are only 2 columns in the dataset\n",
    "    Total no. of rows are 8675\n",
    "    There are no null values present in the dataset\n",
    "    One Disadvantage is that all values are textual, hence they have to be converted to numerical form \n",
    "    to train the ML model"
   ]
  },
  {
   "cell_type": "code",
   "execution_count": 48,
   "id": "ff924033",
   "metadata": {},
   "outputs": [
    {
     "data": {
      "text/plain": [
       "array(['INFJ', 'ENTP', 'INTP', 'INTJ', 'ENTJ', 'ENFJ', 'INFP', 'ENFP',\n",
       "       'ISFP', 'ISTP', 'ISFJ', 'ISTJ', 'ESTP', 'ESFP', 'ESTJ', 'ESFJ'],\n",
       "      dtype=object)"
      ]
     },
     "execution_count": 48,
     "metadata": {},
     "output_type": "execute_result"
    }
   ],
   "source": [
    "#displays unique values in type column\n",
    "df['type'].unique()   "
   ]
  },
  {
   "cell_type": "markdown",
   "id": "f6e1e8a5",
   "metadata": {},
   "source": [
    "* It has 16 distinct personality types"
   ]
  },
  {
   "cell_type": "code",
   "execution_count": 49,
   "id": "7bca7c87",
   "metadata": {},
   "outputs": [
    {
     "data": {
      "text/plain": [
       "Text(0.5, 1.0, 'Total posts for each personality type')"
      ]
     },
     "execution_count": 49,
     "metadata": {},
     "output_type": "execute_result"
    },
    {
     "data": {
      "image/png": "[encoded data removed]",
      "text/plain": [
       "<Figure size 864x288 with 1 Axes>"
      ]
     },
     "metadata": {
      "needs_background": "light"
     },
     "output_type": "display_data"
    }
   ],
   "source": [
    "# Data visualization for no. of posts for each personality type\n",
    "# Group by the data using type\n",
    "df_total = df.groupby(['type']).count()\n",
    "\n",
    "plt.figure(figsize = (12,4))\n",
    "plt.bar(np.array(df_total.index), height = df_total['posts'],)\n",
    "plt.xlabel('Personality types', size = 14)\n",
    "plt.ylabel('No. of posts available', size = 14)\n",
    "plt.title('Total posts for each personality type')"
   ]
  },
  {
   "cell_type": "markdown",
   "id": "3f3251c0",
   "metadata": {},
   "source": [
    "We observe that some of the personality types has a lot more data than others, the most common Kaggle users personality is INFP (Introvert Intuition Feeling Perceiving).\n",
    "We can consider for now that users who comment on social media more frequently are more intoverted, perceptive, and emotional."
   ]
  },
  {
   "cell_type": "code",
   "execution_count": 50,
   "id": "1d023187",
   "metadata": {},
   "outputs": [
    {
     "data": {
      "text/html": [
       "<div>\n",
       "<style scoped>\n",
       "    .dataframe tbody tr th:only-of-type {\n",
       "        vertical-align: middle;\n",
       "    }\n",
       "\n",
       "    .dataframe tbody tr th {\n",
       "        vertical-align: top;\n",
       "    }\n",
       "\n",
       "    .dataframe thead th {\n",
       "        text-align: right;\n",
       "    }\n",
       "</style>\n",
       "<table border=\"1\" class=\"dataframe\">\n",
       "  <thead>\n",
       "    <tr style=\"text-align: right;\">\n",
       "      <th></th>\n",
       "      <th>type</th>\n",
       "      <th>posts</th>\n",
       "      <th>words_per_comment</th>\n",
       "      <th>variance_of_word_counts</th>\n",
       "    </tr>\n",
       "  </thead>\n",
       "  <tbody>\n",
       "    <tr>\n",
       "      <th>0</th>\n",
       "      <td>INFJ</td>\n",
       "      <td>'http://www.youtube.com/watch?v=qsXHcwe3krw|||...</td>\n",
       "      <td>11.12</td>\n",
       "      <td>135.2900</td>\n",
       "    </tr>\n",
       "    <tr>\n",
       "      <th>1</th>\n",
       "      <td>ENTP</td>\n",
       "      <td>'I'm finding the lack of me in these posts ver...</td>\n",
       "      <td>23.40</td>\n",
       "      <td>187.4756</td>\n",
       "    </tr>\n",
       "    <tr>\n",
       "      <th>2</th>\n",
       "      <td>INTP</td>\n",
       "      <td>'Good one  _____   https://www.youtube.com/wat...</td>\n",
       "      <td>16.72</td>\n",
       "      <td>180.6900</td>\n",
       "    </tr>\n",
       "    <tr>\n",
       "      <th>3</th>\n",
       "      <td>INTJ</td>\n",
       "      <td>'Dear INTP,   I enjoyed our conversation the o...</td>\n",
       "      <td>21.28</td>\n",
       "      <td>181.8324</td>\n",
       "    </tr>\n",
       "    <tr>\n",
       "      <th>4</th>\n",
       "      <td>ENTJ</td>\n",
       "      <td>'You're fired.|||That's another silly misconce...</td>\n",
       "      <td>19.34</td>\n",
       "      <td>196.4576</td>\n",
       "    </tr>\n",
       "  </tbody>\n",
       "</table>\n",
       "</div>"
      ],
      "text/plain": [
       "   type                                              posts  words_per_comment  \\\n",
       "0  INFJ  'http://www.youtube.com/watch?v=qsXHcwe3krw|||...              11.12   \n",
       "1  ENTP  'I'm finding the lack of me in these posts ver...              23.40   \n",
       "2  INTP  'Good one  _____   https://www.youtube.com/wat...              16.72   \n",
       "3  INTJ  'Dear INTP,   I enjoyed our conversation the o...              21.28   \n",
       "4  ENTJ  'You're fired.|||That's another silly misconce...              19.34   \n",
       "\n",
       "   variance_of_word_counts  \n",
       "0                 135.2900  \n",
       "1                 187.4756  \n",
       "2                 180.6900  \n",
       "3                 181.8324  \n",
       "4                 196.4576  "
      ]
     },
     "execution_count": 50,
     "metadata": {},
     "output_type": "execute_result"
    }
   ],
   "source": [
    "#This function counts the no of words in each post of a user\n",
    "def var_row(row):\n",
    "    l = []\n",
    "    for i in row.split('|||'):\n",
    "        l.append(len(i.split()))\n",
    "    return np.var(l)\n",
    "\n",
    "#this function counts the no of words per post out of the total 50 posts in the whole row\n",
    "df['words_per_comment'] = df['posts'].apply(lambda x: len(x.split())/50)\n",
    "df['variance_of_word_counts'] = df['posts'].apply(lambda x: var_row(x))\n",
    "df.head()"
   ]
  },
  {
   "cell_type": "markdown",
   "id": "5c66d402",
   "metadata": {},
   "source": [
    "Since the original dataset only came with 2 features, the Type and 50 posts for each person, lets create additional features for exploring & analysing our dataset.Added two more parameter words per comments and Variance of words\n"
   ]
  },
  {
   "cell_type": "code",
   "execution_count": 51,
   "id": "ff4b1d55",
   "metadata": {},
   "outputs": [
    {
     "name": "stderr",
     "output_type": "stream",
     "text": [
      "/Users/rajibsamanta/opt/anaconda3/lib/python3.9/site-packages/seaborn/distributions.py:2619: FutureWarning: `distplot` is a deprecated function and will be removed in a future version. Please adapt your code to use either `displot` (a figure-level function with similar flexibility) or `histplot` (an axes-level function for histograms).\n",
      "  warnings.warn(msg, FutureWarning)\n"
     ]
    },
    {
     "data": {
      "text/plain": [
       "Text(0.5, 1.0, 'Distribution of Lengths of all 50 Posts')"
      ]
     },
     "execution_count": 51,
     "metadata": {},
     "output_type": "execute_result"
    },
    {
     "data": {
      "image/png": "[encoded data removed]",
      "text/plain": [
       "<Figure size 432x288 with 1 Axes>"
      ]
     },
     "metadata": {
      "needs_background": "light"
     },
     "output_type": "display_data"
    }
   ],
   "source": [
    "# Add length of the post \n",
    "df[\"length_posts\"] = df[\"posts\"].apply(len)\n",
    "sns.distplot(df[\"length_posts\"]).set_title(\"Distribution of Lengths of all 50 Posts\")"
   ]
  },
  {
   "cell_type": "markdown",
   "id": "f27bc692",
   "metadata": {},
   "source": [
    "We can see that most no of lengthly posts have between 7000-9000 words"
   ]
  },
  {
   "cell_type": "code",
   "execution_count": 52,
   "id": "d353822d",
   "metadata": {},
   "outputs": [
    {
     "data": {
      "text/plain": [
       "[('I', 387957),\n",
       " ('to', 290168),\n",
       " ('the', 270699),\n",
       " ('a', 230918),\n",
       " ('and', 219498),\n",
       " ('of', 177853),\n",
       " ('is', 128804),\n",
       " ('you', 128750),\n",
       " ('that', 127221),\n",
       " ('in', 117263),\n",
       " ('my', 104561),\n",
       " ('it', 93101),\n",
       " ('for', 83057),\n",
       " ('have', 79784),\n",
       " ('with', 77131),\n",
       " ('but', 74729),\n",
       " ('be', 69317),\n",
       " ('are', 65034),\n",
       " ('like', 61390),\n",
       " ('not', 59496)]"
      ]
     },
     "execution_count": 52,
     "metadata": {},
     "output_type": "execute_result"
    }
   ],
   "source": [
    "#Finding the most common words in all posts.Top 20\n",
    "words = list(df[\"posts\"].apply(lambda x: x.split()))\n",
    "words = [x for y in words for x in y]\n",
    "Counter(words).most_common(20) "
   ]
  },
  {
   "cell_type": "code",
   "execution_count": 53,
   "id": "a540b787",
   "metadata": {},
   "outputs": [
    {
     "data": {
      "text/html": [
       "<div>\n",
       "<style scoped>\n",
       "    .dataframe tbody tr th:only-of-type {\n",
       "        vertical-align: middle;\n",
       "    }\n",
       "\n",
       "    .dataframe tbody tr th {\n",
       "        vertical-align: top;\n",
       "    }\n",
       "\n",
       "    .dataframe thead th {\n",
       "        text-align: right;\n",
       "    }\n",
       "</style>\n",
       "<table border=\"1\" class=\"dataframe\">\n",
       "  <thead>\n",
       "    <tr style=\"text-align: right;\">\n",
       "      <th></th>\n",
       "      <th>Word</th>\n",
       "      <th>Count</th>\n",
       "    </tr>\n",
       "  </thead>\n",
       "  <tbody>\n",
       "    <tr>\n",
       "      <th>0</th>\n",
       "      <td>I</td>\n",
       "      <td>387957</td>\n",
       "    </tr>\n",
       "    <tr>\n",
       "      <th>1</th>\n",
       "      <td>to</td>\n",
       "      <td>290168</td>\n",
       "    </tr>\n",
       "    <tr>\n",
       "      <th>2</th>\n",
       "      <td>the</td>\n",
       "      <td>270699</td>\n",
       "    </tr>\n",
       "    <tr>\n",
       "      <th>3</th>\n",
       "      <td>a</td>\n",
       "      <td>230918</td>\n",
       "    </tr>\n",
       "    <tr>\n",
       "      <th>4</th>\n",
       "      <td>and</td>\n",
       "      <td>219498</td>\n",
       "    </tr>\n",
       "  </tbody>\n",
       "</table>\n",
       "</div>"
      ],
      "text/plain": [
       "  Word   Count\n",
       "0    I  387957\n",
       "1   to  290168\n",
       "2  the  270699\n",
       "3    a  230918\n",
       "4  and  219498"
      ]
     },
     "execution_count": 53,
     "metadata": {},
     "output_type": "execute_result"
    }
   ],
   "source": [
    "\n",
    "# Convert the list to a DataFrame\n",
    "df_words = pd.DataFrame(Counter(words).most_common(20) , columns=['Word', 'Count'])\n",
    "df_words.head()\n"
   ]
  },
  {
   "cell_type": "code",
   "execution_count": 54,
   "id": "fd1fc94a",
   "metadata": {},
   "outputs": [
    {
     "data": {
      "text/plain": [
       "Text(0.5, 1.0, 'Posts with Common word count')"
      ]
     },
     "execution_count": 54,
     "metadata": {},
     "output_type": "execute_result"
    },
    {
     "data": {
      "image/png": "[encoded data removed]",
      "text/plain": [
       "<Figure size 864x288 with 1 Axes>"
      ]
     },
     "metadata": {
      "needs_background": "light"
     },
     "output_type": "display_data"
    }
   ],
   "source": [
    "# Barplot for commonly used words.\n",
    "plt.figure(figsize = (12,4))\n",
    "plt.bar(df_words['Word'], height = df_words['Count'],)\n",
    "plt.xlabel('Word', size = 14)\n",
    "plt.ylabel('Common Word Count', size = 14)\n",
    "plt.title('Posts with Common word count')"
   ]
  },
  {
   "cell_type": "markdown",
   "id": "a91df91f",
   "metadata": {},
   "source": [
    "#### Next Steps:\n",
    "#### Feature Engineering:\n",
    "    Convert the text data into numerical features that machine learning models can understand. \n",
    "#### Label Encoding:\n",
    "    Encode the categorical MBTI personality types into numerical labels. For example, convert \"INFP\" to 1,\n",
    "    \"ENFJ\" to 2, and so on.\n",
    "#### Data Splitting:\n",
    "    Split the dataset into training, validation, and test sets. \n",
    "#### Model Selection:\n",
    "    Choose a machine learning model suitable for text classification tasks. Common choices include logistic regression, support vector machines, random forests, and neural networks\n",
    "#### Model Training:\n",
    "    Train the selected model on the training dataset using the prepared text features and the corresponding MBTI labels."
   ]
  },
  {
   "cell_type": "code",
   "execution_count": null,
   "id": "9466b605",
   "metadata": {},
   "outputs": [],
   "source": []
  }
 ],
 "metadata": {
  "kernelspec": {
   "display_name": "Python 3 (ipykernel)",
   "language": "python",
   "name": "python3"
  },
  "language_info": {
   "codemirror_mode": {
    "name": "ipython",
    "version": 3
   },
   "file_extension": ".py",
   "mimetype": "text/x-python",
   "name": "python",
   "nbconvert_exporter": "python",
   "pygments_lexer": "ipython3",
   "version": "3.9.12"
  }
 },
 "nbformat": 4,
 "nbformat_minor": 5
}
